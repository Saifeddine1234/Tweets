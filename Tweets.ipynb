{
 "cells": [
  {
   "cell_type": "code",
   "execution_count": null,
   "metadata": {
    "colab": {
     "base_uri": "https://localhost:8080/"
    },
    "id": "CMvojR67_u0B",
    "outputId": "5be62f0c-333d-4cef-a6d6-5c5a982f1d54"
   },
   "outputs": [
    {
     "name": "stdout",
     "output_type": "stream",
     "text": [
      "[nltk_data] Downloading package stopwords to /root/nltk_data...\n",
      "[nltk_data]   Unzipping corpora/stopwords.zip.\n",
      "[nltk_data] Downloading package wordnet to /root/nltk_data...\n",
      "[nltk_data]   Unzipping corpora/wordnet.zip.\n"
     ]
    }
   ],
   "source": [
    "#importations\n",
    "import tweepy\n",
    "from tweepy import API\n",
    "from tweepy import OAuthHandler\n",
    "import pandas as pd\n",
    "import matplotlib.pyplot as plt\n",
    "import csv\n",
    "from nltk.tokenize import RegexpTokenizer, WhitespaceTokenizer\n",
    "from nltk.stem import WordNetLemmatizer\n",
    "import nltk\n",
    "nltk.download('stopwords')\n",
    "nltk.download('wordnet')\n",
    "from nltk.corpus import stopwords\n",
    "import string\n",
    "from string import punctuation\n",
    "import en_core_web_sm\n",
    "from sklearn.feature_extraction.text import TfidfVectorizer\n",
    "import seaborn as sns\n",
    "from sklearn.cluster import KMeans\n",
    "from scipy import stats\n"
   ]
  },
  {
   "cell_type": "code",
   "execution_count": null,
   "metadata": {
    "id": "sDP-0N_6_3ZT"
   },
   "outputs": [],
   "source": [
    "#definition des clés\n",
    "CONSUMER_KEY    = 'l0Ama9OIZYfUyJHWEo1TpDj0q'\n",
    "CONSUMER_SECRET = 'l3AIIGLyHfbczO1bpSS5KQqXZ8sMthGQRn9MzoikigkRhJX3tP'\n",
    "ACCESS_TOKEN  = '1328339246898434050-VkR8IxfpgSC4rLK37RbvADsdgAWpLd'\n",
    "ACCESS_SECRET = 'nHLrrrzXDIdD3pEEH7kzlnu9A9e1essHJb9IhO7swMkK4'\n",
    "\n",
    "#authentication\n",
    "auth = OAuthHandler(CONSUMER_KEY, CONSUMER_SECRET)\n",
    "auth.set_access_token(ACCESS_TOKEN, ACCESS_SECRET)\n",
    "#Configuration l'API importer de tweet\n",
    "api = tweepy.API(auth,wait_on_rate_limit=True)"
   ]
  },
  {
   "cell_type": "code",
   "execution_count": null,
   "metadata": {
    "id": "2e0mqWNm_9kJ"
   },
   "outputs": [],
   "source": [
    "#stocker les tweets dans un fichier CSV\n",
    "fichier ='tweets'+'.csv'\n",
    "with open (fichier, 'w', newline='',encoding=\"utf-8\") as File:\n",
    "    FileTab = csv.writer(File)\n",
    "    FileTab.writerow(['Id','Tweet','Nom'])\n",
    "    for tweet in tweepy.Cursor(api.search, q='Politics', lang = 'en').items(3000):\n",
    "        tweets_encoded = tweet.text.encode('utf-8')\n",
    "        tweets_decoded = tweets_encoded.decode('utf-8')\n",
    "        FileTab.writerow([tweet.id,tweets_decoded,tweet.user.name])\n",
    "    for tweet in tweepy.Cursor(api.search, q='culture', lang = 'en').items(3500):\n",
    "        tweets_encoded = tweet.text.encode('utf-8')\n",
    "        tweets_decoded = tweets_encoded.decode('utf-8')\n",
    "        FileTab.writerow([tweet.id,tweets_decoded,tweet.user.name])\n",
    "    for tweet in tweepy.Cursor(api.search, q='sport', lang = 'en').items(3500):\n",
    "        tweets_encoded = tweet.text.encode('utf-8')\n",
    "        tweets_decoded = tweets_encoded.decode('utf-8')\n",
    "        FileTab.writerow([tweet.id,tweets_decoded,tweet.user.name])"
   ]
  },
  {
   "cell_type": "code",
   "execution_count": null,
   "metadata": {
    "id": "oGVRNz9FAYot"
   },
   "outputs": [],
   "source": [
    "#recuperation des tweets de nouveau \n",
    "fichierTweet = pd.read_csv('tweets.csv')"
   ]
  },
  {
   "cell_type": "code",
   "execution_count": null,
   "metadata": {
    "colab": {
     "base_uri": "https://localhost:8080/",
     "height": 419
    },
    "id": "LRWvnAYaAbv9",
    "outputId": "fd0d5762-2c94-4395-ed51-89d22b122995"
   },
   "outputs": [
    {
     "data": {
      "text/html": [
       "<div>\n",
       "<style scoped>\n",
       "    .dataframe tbody tr th:only-of-type {\n",
       "        vertical-align: middle;\n",
       "    }\n",
       "\n",
       "    .dataframe tbody tr th {\n",
       "        vertical-align: top;\n",
       "    }\n",
       "\n",
       "    .dataframe thead th {\n",
       "        text-align: right;\n",
       "    }\n",
       "</style>\n",
       "<table border=\"1\" class=\"dataframe\">\n",
       "  <thead>\n",
       "    <tr style=\"text-align: right;\">\n",
       "      <th></th>\n",
       "      <th>Id</th>\n",
       "      <th>Tweet</th>\n",
       "      <th>Nom</th>\n",
       "    </tr>\n",
       "  </thead>\n",
       "  <tbody>\n",
       "    <tr>\n",
       "      <th>0</th>\n",
       "      <td>1338827158953725952</td>\n",
       "      <td>RT @Shehzad_Ind: So AAP in Delhi notified the ...</td>\n",
       "      <td>Ishwar Singh</td>\n",
       "    </tr>\n",
       "    <tr>\n",
       "      <th>1</th>\n",
       "      <td>1338827158211485696</td>\n",
       "      <td>Central Banks yet again played “saviours of la...</td>\n",
       "      <td>Simon Quijano-Evans</td>\n",
       "    </tr>\n",
       "    <tr>\n",
       "      <th>2</th>\n",
       "      <td>1338827153409007617</td>\n",
       "      <td>RT @CNNPolitics: JUST IN: The Electoral Colleg...</td>\n",
       "      <td>Anita</td>\n",
       "    </tr>\n",
       "    <tr>\n",
       "      <th>3</th>\n",
       "      <td>1338827151202807810</td>\n",
       "      <td>RT @ABC: \"In America, politicians don’t take p...</td>\n",
       "      <td>debra l. dooley</td>\n",
       "    </tr>\n",
       "    <tr>\n",
       "      <th>4</th>\n",
       "      <td>1338827150812647424</td>\n",
       "      <td>RT @NYDailyNews: America voted. The Supreme Co...</td>\n",
       "      <td>BidenBeatTrump2020</td>\n",
       "    </tr>\n",
       "    <tr>\n",
       "      <th>...</th>\n",
       "      <td>...</td>\n",
       "      <td>...</td>\n",
       "      <td>...</td>\n",
       "    </tr>\n",
       "    <tr>\n",
       "      <th>9995</th>\n",
       "      <td>1338813381545955328</td>\n",
       "      <td>RT @LivEchoLFC: Gerrard spoke about Houllier i...</td>\n",
       "      <td>Margaret Lloyd</td>\n",
       "    </tr>\n",
       "    <tr>\n",
       "      <th>9996</th>\n",
       "      <td>1338813379281113090</td>\n",
       "      <td>Is there a more dramatic sport than ⚽️? https:...</td>\n",
       "      <td>𝖱𝖮𝖡 𝖬𝖠𝖣𝖤𝖫𝖬𝖠𝖸𝖤𝖱</td>\n",
       "    </tr>\n",
       "    <tr>\n",
       "      <th>9997</th>\n",
       "      <td>1338813378563895298</td>\n",
       "      <td>@jakepaul @TheNotoriousMMA Yeah he's 0-1 again...</td>\n",
       "      <td>Conor Mackay</td>\n",
       "    </tr>\n",
       "    <tr>\n",
       "      <th>9998</th>\n",
       "      <td>1338813377678860295</td>\n",
       "      <td>An eye opening, brilliantly researched, and hu...</td>\n",
       "      <td>Nima Suchak</td>\n",
       "    </tr>\n",
       "    <tr>\n",
       "      <th>9999</th>\n",
       "      <td>1338813371286573056</td>\n",
       "      <td>RT @kenshropshire: Take a break and enjoy one ...</td>\n",
       "      <td>Arrianee LeBeau</td>\n",
       "    </tr>\n",
       "  </tbody>\n",
       "</table>\n",
       "<p>10000 rows × 3 columns</p>\n",
       "</div>"
      ],
      "text/plain": [
       "                       Id  ...                  Nom\n",
       "0     1338827158953725952  ...         Ishwar Singh\n",
       "1     1338827158211485696  ...  Simon Quijano-Evans\n",
       "2     1338827153409007617  ...                Anita\n",
       "3     1338827151202807810  ...      debra l. dooley\n",
       "4     1338827150812647424  ...   BidenBeatTrump2020\n",
       "...                   ...  ...                  ...\n",
       "9995  1338813381545955328  ...       Margaret Lloyd\n",
       "9996  1338813379281113090  ...       𝖱𝖮𝖡 𝖬𝖠𝖣𝖤𝖫𝖬𝖠𝖸𝖤𝖱\n",
       "9997  1338813378563895298  ...         Conor Mackay\n",
       "9998  1338813377678860295  ...          Nima Suchak\n",
       "9999  1338813371286573056  ...      Arrianee LeBeau\n",
       "\n",
       "[10000 rows x 3 columns]"
      ]
     },
     "execution_count": 5,
     "metadata": {
      "tags": []
     },
     "output_type": "execute_result"
    }
   ],
   "source": [
    "fichierTweet.head(10000)"
   ]
  },
  {
   "cell_type": "code",
   "execution_count": null,
   "metadata": {
    "id": "h9wyeZuIAeoP"
   },
   "outputs": [],
   "source": [
    "## nettoyage des Tweets"
   ]
  },
  {
   "cell_type": "code",
   "execution_count": null,
   "metadata": {
    "colab": {
     "base_uri": "https://localhost:8080/",
     "height": 419
    },
    "id": "VJchhsb3Aiuk",
    "outputId": "cb79f30a-840f-452a-da5b-1b11e7fde62b"
   },
   "outputs": [
    {
     "data": {
      "text/html": [
       "<div>\n",
       "<style scoped>\n",
       "    .dataframe tbody tr th:only-of-type {\n",
       "        vertical-align: middle;\n",
       "    }\n",
       "\n",
       "    .dataframe tbody tr th {\n",
       "        vertical-align: top;\n",
       "    }\n",
       "\n",
       "    .dataframe thead th {\n",
       "        text-align: right;\n",
       "    }\n",
       "</style>\n",
       "<table border=\"1\" class=\"dataframe\">\n",
       "  <thead>\n",
       "    <tr style=\"text-align: right;\">\n",
       "      <th></th>\n",
       "      <th>Id</th>\n",
       "      <th>Tweet</th>\n",
       "      <th>Nom</th>\n",
       "    </tr>\n",
       "  </thead>\n",
       "  <tbody>\n",
       "    <tr>\n",
       "      <th>0</th>\n",
       "      <td>1338827158953725952</td>\n",
       "      <td>rt ind so aap in delhi notified the new farm l...</td>\n",
       "      <td>ishwar singh</td>\n",
       "    </tr>\n",
       "    <tr>\n",
       "      <th>1</th>\n",
       "      <td>1338827158211485696</td>\n",
       "      <td>central banks yet again played saviours of las...</td>\n",
       "      <td>simon quijano-evans</td>\n",
       "    </tr>\n",
       "    <tr>\n",
       "      <th>2</th>\n",
       "      <td>1338827153409007617</td>\n",
       "      <td>rt  just in the electoral college affirms pres...</td>\n",
       "      <td>anita</td>\n",
       "    </tr>\n",
       "    <tr>\n",
       "      <th>3</th>\n",
       "      <td>1338827151202807810</td>\n",
       "      <td>rt  in america politicians dont take power peo...</td>\n",
       "      <td>debra l. dooley</td>\n",
       "    </tr>\n",
       "    <tr>\n",
       "      <th>4</th>\n",
       "      <td>1338827150812647424</td>\n",
       "      <td>rt  america voted the supreme court ruled now ...</td>\n",
       "      <td>bidenbeattrump2020</td>\n",
       "    </tr>\n",
       "    <tr>\n",
       "      <th>...</th>\n",
       "      <td>...</td>\n",
       "      <td>...</td>\n",
       "      <td>...</td>\n",
       "    </tr>\n",
       "    <tr>\n",
       "      <th>9995</th>\n",
       "      <td>1338813381545955328</td>\n",
       "      <td>rt  gerrard spoke about houllier in his press ...</td>\n",
       "      <td>margaret lloyd</td>\n",
       "    </tr>\n",
       "    <tr>\n",
       "      <th>9996</th>\n",
       "      <td>1338813379281113090</td>\n",
       "      <td>is there a more dramatic sport than</td>\n",
       "      <td>𝖱𝖮𝖡 𝖬𝖠𝖣𝖤𝖫𝖬𝖠𝖸𝖤𝖱</td>\n",
       "    </tr>\n",
       "    <tr>\n",
       "      <th>9997</th>\n",
       "      <td>1338813378563895298</td>\n",
       "      <td>yeah hes 01 against the best boxer of all ti...</td>\n",
       "      <td>conor mackay</td>\n",
       "    </tr>\n",
       "    <tr>\n",
       "      <th>9998</th>\n",
       "      <td>1338813377678860295</td>\n",
       "      <td>an eye opening brilliantly researched and huge...</td>\n",
       "      <td>nima suchak</td>\n",
       "    </tr>\n",
       "    <tr>\n",
       "      <th>9999</th>\n",
       "      <td>1338813371286573056</td>\n",
       "      <td>rt  take a break and enjoy one of our award wi...</td>\n",
       "      <td>arrianee lebeau</td>\n",
       "    </tr>\n",
       "  </tbody>\n",
       "</table>\n",
       "<p>10000 rows × 3 columns</p>\n",
       "</div>"
      ],
      "text/plain": [
       "                       Id  ...                  Nom\n",
       "0     1338827158953725952  ...         ishwar singh\n",
       "1     1338827158211485696  ...  simon quijano-evans\n",
       "2     1338827153409007617  ...                anita\n",
       "3     1338827151202807810  ...      debra l. dooley\n",
       "4     1338827150812647424  ...   bidenbeattrump2020\n",
       "...                   ...  ...                  ...\n",
       "9995  1338813381545955328  ...       margaret lloyd\n",
       "9996  1338813379281113090  ...       𝖱𝖮𝖡 𝖬𝖠𝖣𝖤𝖫𝖬𝖠𝖸𝖤𝖱\n",
       "9997  1338813378563895298  ...         conor mackay\n",
       "9998  1338813377678860295  ...          nima suchak\n",
       "9999  1338813371286573056  ...      arrianee lebeau\n",
       "\n",
       "[10000 rows x 3 columns]"
      ]
     },
     "execution_count": 9,
     "metadata": {
      "tags": []
     },
     "output_type": "execute_result"
    }
   ],
   "source": [
    "import re\n",
    "def clean_text(df,nom , tweet):\n",
    "    df[tweet] = df[tweet].str.lower()\n",
    "    df[tweet] = df[tweet].apply(lambda x: re.sub(r\"(@[A-Za-z0-9]+)|([^0-9A-Za-z \\t])|(\\w+:\\/\\/\\S+)|\"\"|^rt|http.+?|([0-9])\", \"\", x))\n",
    "\n",
    "    \n",
    "    df[nom] = df[nom].str.lower()\n",
    "    df[tweet] = df[tweet].apply(lambda x: re.sub(r\"(@[A-Za-z0-9]+)|([^0-9A-Za-z \\t])|(\\w+:\\/\\/\\S+)|\"\"|^rt|http.+?|([0-9])\", \"\", x))\n",
    "    return df\n",
    "\n",
    "clean_tweets = clean_text(fichierTweet, 'Nom','Tweet')\n",
    "clean_tweets.head(10000)"
   ]
  },
  {
   "cell_type": "code",
   "execution_count": null,
   "metadata": {
    "id": "AAsaEzhRAlxL"
   },
   "outputs": [],
   "source": [
    "nlp = en_core_web_sm.load()\n",
    "tokenizer = RegexpTokenizer(r'\\w+')\n",
    "lemmatizer = WordNetLemmatizer()\n",
    "stop = set(stopwords.words('english'))\n",
    "punctuation = list(string.punctuation)\n",
    "stop.update(punctuation)\n",
    "w_tokenizer = WhitespaceTokenizer()\n",
    "            \n",
    "def fur(text):\n",
    "    ft = []\n",
    "    for i in text.split():\n",
    "        if i.lower() not in stop:\n",
    "            word = lemmatizer.lemmatize(i)\n",
    "            ft.append(word.lower())\n",
    "    return \" \".join(ft)"
   ]
  },
  {
   "cell_type": "code",
   "execution_count": null,
   "metadata": {
    "id": "uF9O0rW4A3hx"
   },
   "outputs": [],
   "source": [
    "mots_Politics = ''' government diplomatic law political aristotle politics diplomatical governance republic public administration\n",
    "politician smooth suave state local government expedient sagacious police election political monarchy parliament dukes sovereign state\n",
    "polity regime democratic ethics communism federation anarchism authoritarianism populism bland aristocracy tribe power negotiation\n",
    "force warfare city clans tribes company country plato confucius latin kingship earls politically counts tribute lordship property inheritance\n",
    "confiscation individualist allegiance espionage conspiracy treason jewish gentile convention observance celibacy pope taxation petition legislation majority\n",
    "collegial permeates greek language flabby permeating communication commerce  governmental pervades permeated abstract straitjacket justice myopic\n",
    "discernment curfew consciences revenue pervading pervade matriarchal numbed juridical rightness unaccountable clannish civilised transfigured deliberative\n",
    "monopoly fatness paternalis mmonkish coin principle sinfulness perverted morass lawmaking'''"
   ]
  },
  {
   "cell_type": "code",
   "execution_count": null,
   "metadata": {
    "id": "PIleM5VuP7wq"
   },
   "outputs": [],
   "source": [
    "mots_sport = '''racing competition athletics spectator sport game gymnastics basketball team sportsman cycling fun skating tennis soccer leisure football \n",
    "athletic games baseball sportswoman position play disport lark boast mutation frolic skylark romp gambol mutant feature  rugby union \n",
    "frisk cavort rollick offside call referee champion skiing riding ski rowing netball diversion coach athlete hockey athletes\n",
    "entertainment olympic coaches polo outdoor sport team sport professional football business lead playing golftelevision chess\n",
    "running go sportsperson sports sportaccord competitive club race gym youth challenge teams track super pleasure class event exercise\n",
    "venue activity standards fitness son variation summercater tournament playoffs athleticism dexterity sumo line occupation wipeout\n",
    "flip pass toss recreation aquatics row archery sledding equitation shot stroke foul possession judo save tuck shooter timekeeper\n",
    "timer deficit average bout round turn surge seed curl start field shoot umpire drop down bandy submarine kick punt drive\n",
    "racket carry dribble cut box hike mountaineer rappel backpack pack skate skateboard sled sleigh bob bobsled luge toboggan\n",
    "scull canoe kayak paddle surf surfboard jackknife snorkel hurdle loose legal disqualified home away ineligible defending\n",
    "onside underarm underhand underhanded overhand upfield humor humour wit witticism jocularity clowning comedy draughts\n",
    "tradition goal funambulism birling logrollingoutclass double-team '''\n"
   ]
  },
  {
   "cell_type": "code",
   "execution_count": null,
   "metadata": {
    "id": "7AALJqgcQAK4"
   },
   "outputs": [],
   "source": [
    "mots_culture  = '''\n",
    "society civilization philosophy anthropology subculture acculturation religion cultivation nationalism counterculture\n",
    "cultural ideology art popular folklore agriculture country writing music monoculture cyberculture language\n",
    "anthropology cooking literature science growth tillage grow ritual perfection development metaphor concept\n",
    "symbol mythology gender tradition archaeology clothing traditions traditional western culture contemporary\n",
    "multiculturalism elite politics ethnicity heritage sociology modernity spirituality marxism ethos nationality\n",
    "humanism romanticism finish polish refinement civilisation traditionalism genetics human learning interaction kinship heredity\n",
    "marriage dance technology shelter growing biology starter viticulture discernment content maturation appreciation ontogeny\n",
    "archeology attitude taste letters institutions humanities acculturate jewelry flawlessness perceptiveness ontogenesis\n",
    "viniculture meme modern capitalism clothes cultures social intellectual especially nature religious rooted\n",
    "context cicero societies popular history literary roots important geography historical\n",
    "folk particular origins phenomenon teleology ancient aspects perspective particularly rousseau architecture life inspired\n",
    "liberalism influence landscape flourishing urban circles everyday refers foremost ideas aesthetics thriving indigenous\n",
    "peoples such famous example known chinese describe nowadays community style knowledge unique prevalent describes environment classical\n",
    " today common originv interests great behavioral modernity most besides well beliefs importance emphasis kind understanding\n",
    "themes genre regarded '''"
   ]
  },
  {
   "cell_type": "code",
   "execution_count": null,
   "metadata": {
    "id": "PLbLBTvAR-x4"
   },
   "outputs": [],
   "source": [
    "politique = fur(mots_Politics)\n",
    "sport = fur(mots_sport)\n",
    "culture = fur(mots_culture)"
   ]
  },
  {
   "cell_type": "code",
   "execution_count": null,
   "metadata": {
    "id": "Qati8lhvS1W7"
   },
   "outputs": [],
   "source": [
    "##victoriser"
   ]
  },
  {
   "cell_type": "code",
   "execution_count": null,
   "metadata": {
    "id": "EemRMhKrSgKl"
   },
   "outputs": [],
   "source": [
    "def get_vecteur(*strs):\n",
    "    text = [t for t in strs]\n",
    "    vectorizer = TfidfVectorizer(text)\n",
    "    vectorizer.fit(text)\n",
    "    return vectorizer.transform(text).toarray()"
   ]
  },
  {
   "cell_type": "code",
   "execution_count": null,
   "metadata": {
    "id": "5QgSQ6k2S6HZ"
   },
   "outputs": [],
   "source": [
    "vecteur_Politics = get_vecteur(politique)\n",
    "vecteur_Sport = get_vecteur(sport)\n",
    "vecteur_Culture = get_vecteur(culture)"
   ]
  },
  {
   "cell_type": "code",
   "execution_count": null,
   "metadata": {
    "colab": {
     "base_uri": "https://localhost:8080/"
    },
    "id": "2pzVNrGkTuQI",
    "outputId": "4b0ac82c-96ec-49cb-fe1a-229cf2d6fe7d"
   },
   "outputs": [
    {
     "data": {
      "text/plain": [
       "array([[0.09016696, 0.09016696, 0.09016696, 0.09016696, 0.09016696,\n",
       "        0.09016696, 0.09016696, 0.09016696, 0.09016696, 0.09016696,\n",
       "        0.09016696, 0.09016696, 0.09016696, 0.09016696, 0.09016696,\n",
       "        0.09016696, 0.09016696, 0.09016696, 0.09016696, 0.09016696,\n",
       "        0.09016696, 0.09016696, 0.09016696, 0.09016696, 0.09016696,\n",
       "        0.09016696, 0.09016696, 0.09016696, 0.09016696, 0.09016696,\n",
       "        0.09016696, 0.09016696, 0.09016696, 0.09016696, 0.09016696,\n",
       "        0.09016696, 0.09016696, 0.09016696, 0.09016696, 0.09016696,\n",
       "        0.09016696, 0.09016696, 0.09016696, 0.09016696, 0.18033393,\n",
       "        0.09016696, 0.09016696, 0.09016696, 0.09016696, 0.09016696,\n",
       "        0.09016696, 0.09016696, 0.09016696, 0.09016696, 0.09016696,\n",
       "        0.09016696, 0.09016696, 0.09016696, 0.09016696, 0.09016696,\n",
       "        0.09016696, 0.09016696, 0.09016696, 0.09016696, 0.09016696,\n",
       "        0.09016696, 0.09016696, 0.09016696, 0.09016696, 0.09016696,\n",
       "        0.09016696, 0.09016696, 0.09016696, 0.09016696, 0.09016696,\n",
       "        0.09016696, 0.09016696, 0.09016696, 0.09016696, 0.09016696,\n",
       "        0.09016696, 0.09016696, 0.18033393, 0.09016696, 0.09016696,\n",
       "        0.09016696, 0.09016696, 0.09016696, 0.09016696, 0.09016696,\n",
       "        0.09016696, 0.09016696, 0.09016696, 0.09016696, 0.09016696,\n",
       "        0.09016696, 0.09016696, 0.09016696, 0.09016696, 0.09016696,\n",
       "        0.09016696, 0.18033393, 0.09016696, 0.09016696, 0.09016696,\n",
       "        0.09016696, 0.09016696, 0.18033393, 0.09016696, 0.09016696,\n",
       "        0.09016696]])"
      ]
     },
     "execution_count": 18,
     "metadata": {
      "tags": []
     },
     "output_type": "execute_result"
    }
   ],
   "source": [
    "vecteur_Politics"
   ]
  },
  {
   "cell_type": "code",
   "execution_count": null,
   "metadata": {
    "id": "MbBWcARUULEG"
   },
   "outputs": [],
   "source": [
    "tv=TfidfVectorizer()\n",
    "tfidf_tweets =tv.fit_transform(fichierTweet.Tweet)\n",
    "tfidf_tweets =tv.fit_transform(fichierTweet.Nom)"
   ]
  },
  {
   "cell_type": "code",
   "execution_count": null,
   "metadata": {
    "id": "cMHD0PdqU72r"
   },
   "outputs": [],
   "source": [
    "def jaccard_similarity(query, document):\n",
    "    intersection = set(query).intersection(set(document))\n",
    "    union = set(query).union(set(document))\n",
    "    return len(intersection)/len(union)\n",
    "\n",
    "def get_scores(group,tweets):\n",
    "    scores = []\n",
    "    for tweet in tweets:\n",
    "        s = jaccard_similarity(group, tweet)\n",
    "        scores.append(s)\n",
    "    return scores"
   ]
  },
  {
   "cell_type": "code",
   "execution_count": null,
   "metadata": {
    "colab": {
     "base_uri": "https://localhost:8080/"
    },
    "id": "McsfO42uVUys",
    "outputId": "998e31d1-5a42-4fb0-b915-8a92363ffeba"
   },
   "outputs": [
    {
     "data": {
      "text/plain": [
       "[0.8,\n",
       " 0.88,\n",
       " 0.8148148148148148,\n",
       " 0.76,\n",
       " 0.88,\n",
       " 0.52,\n",
       " 0.7407407407407407,\n",
       " 0.84,\n",
       " 0.88,\n",
       " 0.84,\n",
       " 0.84,\n",
       " 0.75,\n",
       " 0.88,\n",
       " 0.88,\n",
       " 0.88]"
      ]
     },
     "execution_count": 117,
     "metadata": {
      "tags": []
     },
     "output_type": "execute_result"
    }
   ],
   "source": [
    "Score_Politics = get_scores(politique,fichierTweet.Tweet.to_list())\n",
    "Score_Politics[-15:]"
   ]
  },
  {
   "cell_type": "code",
   "execution_count": null,
   "metadata": {
    "colab": {
     "base_uri": "https://localhost:8080/"
    },
    "id": "y9RfzgYKVqJp",
    "outputId": "f614ff26-c70f-4b7d-884a-501386aea213"
   },
   "outputs": [
    {
     "data": {
      "text/plain": [
       "[0.48148148148148145,\n",
       " 0.6896551724137931,\n",
       " 0.7777777777777778,\n",
       " 0.8148148148148148,\n",
       " 0.7777777777777778,\n",
       " 0.7777777777777778,\n",
       " 0.7,\n",
       " 0.8148148148148148,\n",
       " 0.8148148148148148,\n",
       " 0.8148148148148148]"
      ]
     },
     "execution_count": 118,
     "metadata": {
      "tags": []
     },
     "output_type": "execute_result"
    }
   ],
   "source": [
    "Score_Sport = get_scores(sport,fichierTweet.Tweet.to_list())\n",
    "Score_Sport[-15:]"
   ]
  },
  {
   "cell_type": "code",
   "execution_count": null,
   "metadata": {
    "colab": {
     "base_uri": "https://localhost:8080/"
    },
    "id": "16wAfKwVdiwP",
    "outputId": "45c3e52a-e5f3-4864-b272-bd6ce115d7d1"
   },
   "outputs": [
    {
     "data": {
      "text/plain": [
       "[0.7407407407407407,\n",
       " 0.8148148148148148,\n",
       " 0.7586206896551724,\n",
       " 0.7037037037037037,\n",
       " 0.8148148148148148,\n",
       " 0.48148148148148145,\n",
       " 0.6896551724137931,\n",
       " 0.7777777777777778,\n",
       " 0.8148148148148148,\n",
       " 0.7777777777777778,\n",
       " 0.7777777777777778,\n",
       " 0.7,\n",
       " 0.8148148148148148,\n",
       " 0.8148148148148148,\n",
       " 0.8148148148148148]"
      ]
     },
     "execution_count": 119,
     "metadata": {
      "tags": []
     },
     "output_type": "execute_result"
    }
   ],
   "source": [
    "Score_Culture = get_scores(culture,fichierTweet.Tweet.to_list())\n",
    "Score_Culture[-15:]"
   ]
  },
  {
   "cell_type": "code",
   "execution_count": null,
   "metadata": {
    "id": "59Vu_RurfuUB"
   },
   "outputs": [],
   "source": [
    "Nom_List=fichierTweet.Nom.to_list()\n",
    "Tweet_List=fichierTweet.Tweet.to_list()"
   ]
  },
  {
   "cell_type": "code",
   "execution_count": null,
   "metadata": {
    "colab": {
     "base_uri": "https://localhost:8080/",
     "height": 669
    },
    "id": "PLSHORbUd9eP",
    "outputId": "43570e27-d4b8-4dd9-fbe8-009f642f8163"
   },
   "outputs": [
    {
     "data": {
      "text/html": [
       "<div>\n",
       "<style scoped>\n",
       "    .dataframe tbody tr th:only-of-type {\n",
       "        vertical-align: middle;\n",
       "    }\n",
       "\n",
       "    .dataframe tbody tr th {\n",
       "        vertical-align: top;\n",
       "    }\n",
       "\n",
       "    .dataframe thead th {\n",
       "        text-align: right;\n",
       "    }\n",
       "</style>\n",
       "<table border=\"1\" class=\"dataframe\">\n",
       "  <thead>\n",
       "    <tr style=\"text-align: right;\">\n",
       "      <th></th>\n",
       "      <th>nom</th>\n",
       "      <th>politique</th>\n",
       "      <th>sport</th>\n",
       "      <th>culture</th>\n",
       "    </tr>\n",
       "  </thead>\n",
       "  <tbody>\n",
       "    <tr>\n",
       "      <th>0</th>\n",
       "      <td></td>\n",
       "      <td>0.840000</td>\n",
       "      <td>0.777778</td>\n",
       "      <td>0.777778</td>\n",
       "    </tr>\n",
       "    <tr>\n",
       "      <th>1</th>\n",
       "      <td>chrisparkcomedy</td>\n",
       "      <td>0.840000</td>\n",
       "      <td>0.777778</td>\n",
       "      <td>0.777778</td>\n",
       "    </tr>\n",
       "    <tr>\n",
       "      <th>2</th>\n",
       "      <td>aytipsy</td>\n",
       "      <td>0.800000</td>\n",
       "      <td>0.740741</td>\n",
       "      <td>0.740741</td>\n",
       "    </tr>\n",
       "    <tr>\n",
       "      <th>3</th>\n",
       "      <td>lesley gale</td>\n",
       "      <td>0.777778</td>\n",
       "      <td>0.724138</td>\n",
       "      <td>0.724138</td>\n",
       "    </tr>\n",
       "    <tr>\n",
       "      <th>4</th>\n",
       "      <td></td>\n",
       "      <td>0.920000</td>\n",
       "      <td>0.851852</td>\n",
       "      <td>0.851852</td>\n",
       "    </tr>\n",
       "    <tr>\n",
       "      <th>5</th>\n",
       "      <td>zoyam</td>\n",
       "      <td>0.777778</td>\n",
       "      <td>0.724138</td>\n",
       "      <td>0.724138</td>\n",
       "    </tr>\n",
       "    <tr>\n",
       "      <th>6</th>\n",
       "      <td></td>\n",
       "      <td>0.840000</td>\n",
       "      <td>0.777778</td>\n",
       "      <td>0.777778</td>\n",
       "    </tr>\n",
       "    <tr>\n",
       "      <th>7</th>\n",
       "      <td>neil stevens</td>\n",
       "      <td>0.730769</td>\n",
       "      <td>0.678571</td>\n",
       "      <td>0.740741</td>\n",
       "    </tr>\n",
       "    <tr>\n",
       "      <th>8</th>\n",
       "      <td></td>\n",
       "      <td>0.840000</td>\n",
       "      <td>0.777778</td>\n",
       "      <td>0.777778</td>\n",
       "    </tr>\n",
       "    <tr>\n",
       "      <th>9</th>\n",
       "      <td>deep thinkersphynx</td>\n",
       "      <td>0.777778</td>\n",
       "      <td>0.724138</td>\n",
       "      <td>0.724138</td>\n",
       "    </tr>\n",
       "    <tr>\n",
       "      <th>10</th>\n",
       "      <td></td>\n",
       "      <td>0.800000</td>\n",
       "      <td>0.740741</td>\n",
       "      <td>0.740741</td>\n",
       "    </tr>\n",
       "    <tr>\n",
       "      <th>11</th>\n",
       "      <td>beverly davis</td>\n",
       "      <td>0.880000</td>\n",
       "      <td>0.814815</td>\n",
       "      <td>0.814815</td>\n",
       "    </tr>\n",
       "    <tr>\n",
       "      <th>12</th>\n",
       "      <td>francisco garca</td>\n",
       "      <td>0.518519</td>\n",
       "      <td>0.482759</td>\n",
       "      <td>0.482759</td>\n",
       "    </tr>\n",
       "    <tr>\n",
       "      <th>13</th>\n",
       "      <td>greg bluestein</td>\n",
       "      <td>0.760000</td>\n",
       "      <td>0.703704</td>\n",
       "      <td>0.703704</td>\n",
       "    </tr>\n",
       "    <tr>\n",
       "      <th>14</th>\n",
       "      <td>marian steffen</td>\n",
       "      <td>0.840000</td>\n",
       "      <td>0.777778</td>\n",
       "      <td>0.777778</td>\n",
       "    </tr>\n",
       "    <tr>\n",
       "      <th>15</th>\n",
       "      <td>sean coleman</td>\n",
       "      <td>0.720000</td>\n",
       "      <td>0.666667</td>\n",
       "      <td>0.666667</td>\n",
       "    </tr>\n",
       "    <tr>\n",
       "      <th>16</th>\n",
       "      <td>chris</td>\n",
       "      <td>0.655172</td>\n",
       "      <td>0.612903</td>\n",
       "      <td>0.612903</td>\n",
       "    </tr>\n",
       "    <tr>\n",
       "      <th>17</th>\n",
       "      <td>thomas kaine</td>\n",
       "      <td>0.640000</td>\n",
       "      <td>0.592593</td>\n",
       "      <td>0.592593</td>\n",
       "    </tr>\n",
       "    <tr>\n",
       "      <th>18</th>\n",
       "      <td>daisy daisy</td>\n",
       "      <td>0.760000</td>\n",
       "      <td>0.703704</td>\n",
       "      <td>0.703704</td>\n",
       "    </tr>\n",
       "    <tr>\n",
       "      <th>19</th>\n",
       "      <td>sheena</td>\n",
       "      <td>0.846154</td>\n",
       "      <td>0.785714</td>\n",
       "      <td>0.785714</td>\n",
       "    </tr>\n",
       "  </tbody>\n",
       "</table>\n",
       "</div>"
      ],
      "text/plain": [
       "                   nom  politique     sport   culture\n",
       "0                        0.840000  0.777778  0.777778\n",
       "1      chrisparkcomedy   0.840000  0.777778  0.777778\n",
       "2              aytipsy   0.800000  0.740741  0.740741\n",
       "3          lesley gale   0.777778  0.724138  0.724138\n",
       "4                        0.920000  0.851852  0.851852\n",
       "5                zoyam   0.777778  0.724138  0.724138\n",
       "6                        0.840000  0.777778  0.777778\n",
       "7         neil stevens   0.730769  0.678571  0.740741\n",
       "8                        0.840000  0.777778  0.777778\n",
       "9   deep thinkersphynx   0.777778  0.724138  0.724138\n",
       "10                       0.800000  0.740741  0.740741\n",
       "11       beverly davis   0.880000  0.814815  0.814815\n",
       "12     francisco garca   0.518519  0.482759  0.482759\n",
       "13      greg bluestein   0.760000  0.703704  0.703704\n",
       "14      marian steffen   0.840000  0.777778  0.777778\n",
       "15        sean coleman   0.720000  0.666667  0.666667\n",
       "16               chris   0.655172  0.612903  0.612903\n",
       "17        thomas kaine   0.640000  0.592593  0.592593\n",
       "18         daisy daisy   0.760000  0.703704  0.703704\n",
       "19              sheena   0.846154  0.785714  0.785714"
      ]
     },
     "execution_count": 121,
     "metadata": {
      "tags": []
     },
     "output_type": "execute_result"
    }
   ],
   "source": [
    "data  = {'nom':Nom_List,'politique': Score_Politics, 'sport': Score_Sport, 'culture':Score_Culture}\n",
    "scores_df = pd.DataFrame(data)\n",
    "scores_df.head(20)"
   ]
  },
  {
   "cell_type": "code",
   "execution_count": null,
   "metadata": {
    "id": "nHLYaZ8Df9Ke"
   },
   "outputs": [],
   "source": [
    "def get_clusters(l1, l2, l3):\n",
    "    pol = []\n",
    "    sp = []\n",
    "    cul = []\n",
    "    for i, j, k in zip(l1, l2, l3):\n",
    "        m = max(i, j, k)\n",
    "        if m == i:\n",
    "            pol.append(1)\n",
    "        else:\n",
    "            pol.append(0)\n",
    "        if m == j:\n",
    "            sp.append(1)\n",
    "        else:\n",
    "            sp.append(0)        \n",
    "        if m == k:\n",
    "            cul.append(1)\n",
    "        else:\n",
    "            cul.append(0)              \n",
    "    return pol, sp, cul,"
   ]
  },
  {
   "cell_type": "code",
   "execution_count": null,
   "metadata": {
    "id": "18ahH-CIMMg9"
   },
   "outputs": [],
   "source": [
    "l1 = scores_df.politique.to_list()\n",
    "l2 = scores_df.sport.to_list()\n",
    "l3 = scores_df.culture.to_list()\n",
    "\n",
    "pol, sp, cul = get_clusters(l1, l2, l3)"
   ]
  },
  {
   "cell_type": "code",
   "execution_count": null,
   "metadata": {
    "colab": {
     "base_uri": "https://localhost:8080/",
     "height": 669
    },
    "id": "jn5O3EuaNTVE",
    "outputId": "2d816f35-b05e-43c9-fd2b-f7da8033010b"
   },
   "outputs": [
    {
     "data": {
      "text/html": [
       "<div>\n",
       "<style scoped>\n",
       "    .dataframe tbody tr th:only-of-type {\n",
       "        vertical-align: middle;\n",
       "    }\n",
       "\n",
       "    .dataframe tbody tr th {\n",
       "        vertical-align: top;\n",
       "    }\n",
       "\n",
       "    .dataframe thead th {\n",
       "        text-align: right;\n",
       "    }\n",
       "</style>\n",
       "<table border=\"1\" class=\"dataframe\">\n",
       "  <thead>\n",
       "    <tr style=\"text-align: right;\">\n",
       "      <th></th>\n",
       "      <th>nom</th>\n",
       "      <th>politique</th>\n",
       "      <th>sport</th>\n",
       "      <th>culture</th>\n",
       "    </tr>\n",
       "  </thead>\n",
       "  <tbody>\n",
       "    <tr>\n",
       "      <th>0</th>\n",
       "      <td></td>\n",
       "      <td>1</td>\n",
       "      <td>0</td>\n",
       "      <td>0</td>\n",
       "    </tr>\n",
       "    <tr>\n",
       "      <th>1</th>\n",
       "      <td>chrisparkcomedy</td>\n",
       "      <td>1</td>\n",
       "      <td>0</td>\n",
       "      <td>0</td>\n",
       "    </tr>\n",
       "    <tr>\n",
       "      <th>2</th>\n",
       "      <td>aytipsy</td>\n",
       "      <td>1</td>\n",
       "      <td>0</td>\n",
       "      <td>0</td>\n",
       "    </tr>\n",
       "    <tr>\n",
       "      <th>3</th>\n",
       "      <td>lesley gale</td>\n",
       "      <td>1</td>\n",
       "      <td>0</td>\n",
       "      <td>0</td>\n",
       "    </tr>\n",
       "    <tr>\n",
       "      <th>4</th>\n",
       "      <td></td>\n",
       "      <td>1</td>\n",
       "      <td>0</td>\n",
       "      <td>0</td>\n",
       "    </tr>\n",
       "    <tr>\n",
       "      <th>5</th>\n",
       "      <td>zoyam</td>\n",
       "      <td>1</td>\n",
       "      <td>0</td>\n",
       "      <td>0</td>\n",
       "    </tr>\n",
       "    <tr>\n",
       "      <th>6</th>\n",
       "      <td></td>\n",
       "      <td>1</td>\n",
       "      <td>0</td>\n",
       "      <td>0</td>\n",
       "    </tr>\n",
       "    <tr>\n",
       "      <th>7</th>\n",
       "      <td>neil stevens</td>\n",
       "      <td>0</td>\n",
       "      <td>0</td>\n",
       "      <td>1</td>\n",
       "    </tr>\n",
       "    <tr>\n",
       "      <th>8</th>\n",
       "      <td></td>\n",
       "      <td>1</td>\n",
       "      <td>0</td>\n",
       "      <td>0</td>\n",
       "    </tr>\n",
       "    <tr>\n",
       "      <th>9</th>\n",
       "      <td>deep thinkersphynx</td>\n",
       "      <td>1</td>\n",
       "      <td>0</td>\n",
       "      <td>0</td>\n",
       "    </tr>\n",
       "    <tr>\n",
       "      <th>10</th>\n",
       "      <td></td>\n",
       "      <td>1</td>\n",
       "      <td>0</td>\n",
       "      <td>0</td>\n",
       "    </tr>\n",
       "    <tr>\n",
       "      <th>11</th>\n",
       "      <td>beverly davis</td>\n",
       "      <td>1</td>\n",
       "      <td>0</td>\n",
       "      <td>0</td>\n",
       "    </tr>\n",
       "    <tr>\n",
       "      <th>12</th>\n",
       "      <td>francisco garca</td>\n",
       "      <td>1</td>\n",
       "      <td>0</td>\n",
       "      <td>0</td>\n",
       "    </tr>\n",
       "    <tr>\n",
       "      <th>13</th>\n",
       "      <td>greg bluestein</td>\n",
       "      <td>1</td>\n",
       "      <td>0</td>\n",
       "      <td>0</td>\n",
       "    </tr>\n",
       "    <tr>\n",
       "      <th>14</th>\n",
       "      <td>marian steffen</td>\n",
       "      <td>1</td>\n",
       "      <td>0</td>\n",
       "      <td>0</td>\n",
       "    </tr>\n",
       "    <tr>\n",
       "      <th>15</th>\n",
       "      <td>sean coleman</td>\n",
       "      <td>1</td>\n",
       "      <td>0</td>\n",
       "      <td>0</td>\n",
       "    </tr>\n",
       "    <tr>\n",
       "      <th>16</th>\n",
       "      <td>chris</td>\n",
       "      <td>1</td>\n",
       "      <td>0</td>\n",
       "      <td>0</td>\n",
       "    </tr>\n",
       "    <tr>\n",
       "      <th>17</th>\n",
       "      <td>thomas kaine</td>\n",
       "      <td>1</td>\n",
       "      <td>0</td>\n",
       "      <td>0</td>\n",
       "    </tr>\n",
       "    <tr>\n",
       "      <th>18</th>\n",
       "      <td>daisy daisy</td>\n",
       "      <td>1</td>\n",
       "      <td>0</td>\n",
       "      <td>0</td>\n",
       "    </tr>\n",
       "    <tr>\n",
       "      <th>19</th>\n",
       "      <td>sheena</td>\n",
       "      <td>1</td>\n",
       "      <td>0</td>\n",
       "      <td>0</td>\n",
       "    </tr>\n",
       "  </tbody>\n",
       "</table>\n",
       "</div>"
      ],
      "text/plain": [
       "                   nom  politique  sport  culture\n",
       "0                               1      0        0\n",
       "1      chrisparkcomedy          1      0        0\n",
       "2              aytipsy          1      0        0\n",
       "3          lesley gale          1      0        0\n",
       "4                               1      0        0\n",
       "5                zoyam          1      0        0\n",
       "6                               1      0        0\n",
       "7         neil stevens          0      0        1\n",
       "8                               1      0        0\n",
       "9   deep thinkersphynx          1      0        0\n",
       "10                              1      0        0\n",
       "11       beverly davis          1      0        0\n",
       "12     francisco garca          1      0        0\n",
       "13      greg bluestein          1      0        0\n",
       "14      marian steffen          1      0        0\n",
       "15        sean coleman          1      0        0\n",
       "16               chris          1      0        0\n",
       "17        thomas kaine          1      0        0\n",
       "18         daisy daisy          1      0        0\n",
       "19              sheena          1      0        0"
      ]
     },
     "execution_count": 124,
     "metadata": {
      "tags": []
     },
     "output_type": "execute_result"
    }
   ],
   "source": [
    "data = {'nom': Nom_List, 'politique':pol, 'sport':sp, 'culture':cul}\n",
    "cluster_df = pd.DataFrame(data)\n",
    "cluster_df.head(20)"
   ]
  },
  {
   "cell_type": "code",
   "execution_count": null,
   "metadata": {
    "id": "UxZ-A_e0PEJo"
   },
   "outputs": [],
   "source": [
    "a =  cluster_df[['politique', 'sport', 'culture']].sum(axis = 1) > 1\n",
    "c = cluster_df[['politique', 'sport', 'culture']].sum(axis = 1)\n",
    "cluster_df.loc[(a), ['politique', 'sport', 'culture']] = 1/c"
   ]
  },
  {
   "cell_type": "code",
   "execution_count": null,
   "metadata": {
    "id": "e08w0wPsRSCR"
   },
   "outputs": [],
   "source": [
    "cluster_df.shape"
   ]
  },
  {
   "cell_type": "code",
   "execution_count": null,
   "metadata": {},
   "outputs": [],
   "source": [
    "#  Clustered DF"
   ]
  },
  {
   "cell_type": "code",
   "execution_count": null,
   "metadata": {
    "colab": {
     "base_uri": "https://localhost:8080/",
     "height": 252
    },
    "id": "6UkMKd08RWiW",
    "outputId": "fafb7808-0033-4c79-8630-3da0952a5ba1"
   },
   "outputs": [
    {
     "name": "stdout",
     "output_type": "stream",
     "text": [
      "(899, 4)\n"
     ]
    },
    {
     "data": {
      "text/html": [
       "<div>\n",
       "<style scoped>\n",
       "    .dataframe tbody tr th:only-of-type {\n",
       "        vertical-align: middle;\n",
       "    }\n",
       "\n",
       "    .dataframe tbody tr th {\n",
       "        vertical-align: top;\n",
       "    }\n",
       "\n",
       "    .dataframe thead th {\n",
       "        text-align: right;\n",
       "    }\n",
       "</style>\n",
       "<table border=\"1\" class=\"dataframe\">\n",
       "  <thead>\n",
       "    <tr style=\"text-align: right;\">\n",
       "      <th></th>\n",
       "      <th>politique</th>\n",
       "      <th>sport</th>\n",
       "      <th>culture</th>\n",
       "      <th>total</th>\n",
       "    </tr>\n",
       "    <tr>\n",
       "      <th>nom</th>\n",
       "      <th></th>\n",
       "      <th></th>\n",
       "      <th></th>\n",
       "      <th></th>\n",
       "    </tr>\n",
       "  </thead>\n",
       "  <tbody>\n",
       "    <tr>\n",
       "      <th>zimskiii</th>\n",
       "      <td>1</td>\n",
       "      <td>0</td>\n",
       "      <td>0</td>\n",
       "      <td>1</td>\n",
       "    </tr>\n",
       "    <tr>\n",
       "      <th>zoyam</th>\n",
       "      <td>1</td>\n",
       "      <td>0</td>\n",
       "      <td>0</td>\n",
       "      <td>1</td>\n",
       "    </tr>\n",
       "    <tr>\n",
       "      <th>zt</th>\n",
       "      <td>0</td>\n",
       "      <td>0</td>\n",
       "      <td>1</td>\n",
       "      <td>1</td>\n",
       "    </tr>\n",
       "    <tr>\n",
       "      <th>zyczowiekzlasu</th>\n",
       "      <td>1</td>\n",
       "      <td>0</td>\n",
       "      <td>0</td>\n",
       "      <td>1</td>\n",
       "    </tr>\n",
       "    <tr>\n",
       "      <th>Total</th>\n",
       "      <td>895</td>\n",
       "      <td>0</td>\n",
       "      <td>72</td>\n",
       "      <td>967</td>\n",
       "    </tr>\n",
       "  </tbody>\n",
       "</table>\n",
       "</div>"
      ],
      "text/plain": [
       "                politique  sport  culture  total\n",
       "nom                                             \n",
       "zimskiii                1      0        0      1\n",
       "zoyam                   1      0        0      1\n",
       "zt                      0      0        1      1\n",
       "zyczowiekzlasu          1      0        0      1\n",
       "Total                 895      0       72    967"
      ]
     },
     "execution_count": 128,
     "metadata": {
      "tags": []
     },
     "output_type": "execute_result"
    }
   ],
   "source": [
    "pivot_clusters = cluster_df.groupby(['nom']).sum()\n",
    "pivot_clusters['politique'] = pivot_clusters['politique'].astype(int)\n",
    "pivot_clusters['sport'] = pivot_clusters['sport'].astype(int)\n",
    "pivot_clusters['culture'] = pivot_clusters['culture'].astype(int)\n",
    "pivot_clusters['total'] = pivot_clusters['politique'] + pivot_clusters['sport'] + pivot_clusters['culture']\n",
    "pivot_clusters.loc[\"Total\"] = pivot_clusters.sum()\n",
    "print(pivot_clusters.shape)\n",
    "pivot_clusters.tail()"
   ]
  },
  {
   "cell_type": "code",
   "execution_count": null,
   "metadata": {
    "id": "sGVjvXjgSowA"
   },
   "outputs": [],
   "source": [
    "## Visualisations"
   ]
  },
  {
   "cell_type": "code",
   "execution_count": null,
   "metadata": {},
   "outputs": [],
   "source": [
    "d = pivot_clusters.sort_values(by = 'total', ascending  = False)\n",
    "e = d.head(12)\n",
    "e.drop(e.head(2).index, inplace=True)\n",
    "plt.figure(figsize=(12,10))\n",
    "sns.barplot(x = e.index, y = e.total)\n",
    "plt.title('Graphe des principaux tweeps')\n",
    "plt.xticks(rotation=45)\n",
    "plt.xlabel('Nom')\n",
    "plt.ylabel('Total tweets')"
   ]
  },
  {
   "cell_type": "code",
   "execution_count": null,
   "metadata": {
    "colab": {
     "base_uri": "https://localhost:8080/",
     "height": 427
    },
    "id": "suzAVwIoDVu5",
    "outputId": "7086b8a0-ed22-4ccd-a23f-d4daee95f4ee"
   },
   "outputs": [
    {
     "data": {
      "image/png": "[encoded data removed]",
      "text/plain": [
       "<Figure size 720x504 with 1 Axes>"
      ]
     },
     "metadata": {
      "tags": []
     },
     "output_type": "display_data"
    }
   ],
   "source": [
    "fig = plt.figure(figsize =(10, 7)) \n",
    "a = pivot_clusters.drop(['total'], axis = 1)\n",
    "plt.pie(a.loc['Total'], labels = a.columns)\n",
    "plt.title('Graphe des tweets')\n",
    "plt.show()"
   ]
  },
  {
   "cell_type": "code",
   "execution_count": null,
   "metadata": {
    "id": "2gQqVIsTKU3_"
   },
   "outputs": [],
   "source": [
    "# KMeans Clustering"
   ]
  },
  {
   "cell_type": "code",
   "execution_count": null,
   "metadata": {
    "id": "4qGbHbjkLbwH"
   },
   "outputs": [],
   "source": [
    "# politique-sport"
   ]
  },
  {
   "cell_type": "code",
   "execution_count": null,
   "metadata": {
    "id": "_q-tWX6tEAsu"
   },
   "outputs": [],
   "source": [
    "def fun(C1 ,C2):\n",
    "  X = pivot_clusters[[C1, C2]].values\n",
    "  from sklearn.cluster import KMeans\n",
    "  wcss = []\n",
    "  for i in range(1, 11):\n",
    "    kmeans = KMeans(n_clusters=i, init='k-means++', n_init=10, max_iter=300, random_state=0)\n",
    "    kmeans.fit(X)\n",
    "    wcss.append(kmeans.inertia_)\n",
    "  plt.plot(range(1,11), wcss)\n",
    "  plt.xlabel('clusters')\n",
    "  plt.ylabel('wcss')\n",
    "  plt.show()\n",
    "def cluster():\n",
    "  kmeans = KMeans(n_clusters=3, init='k-means++', n_init=10, max_iter=300, random_state=0)\n",
    "  Y_kmeans = kmeans.fit_predict(X)\n",
    "  plt.scatter(X[Y_kmeans==0, 0], X[Y_kmeans==0, 1], s=100, c='violet', label= 'Cluster 1')\n",
    "  plt.scatter(X[Y_kmeans==1, 0], X[Y_kmeans==1, 1], s=100, c='cyan', label= 'Cluster 2')\n",
    "  plt.scatter(X[Y_kmeans==2, 0], X[Y_kmeans==2, 1], s=100, c='green', label= 'Cluster 3')\n",
    "  plt.scatter(X[Y_kmeans==3, 0], X[Y_kmeans==3, 1], s=100, c='blue', label= 'Cluster 4')\n",
    "  plt.scatter(kmeans.cluster_centers_[:, 0], kmeans.cluster_centers_[:, 1], s=100, c='black', label='Centroids' )\n",
    "  plt.title('Clusters politique sport ')\n",
    "  plt.xlabel('politique tweets')\n",
    "  plt.ylabel('sport tweets')\n",
    "  plt.legend()\n",
    "  plt.show()"
   ]
  },
  {
   "cell_type": "code",
   "execution_count": null,
   "metadata": {
    "colab": {
     "base_uri": "https://localhost:8080/",
     "height": 573
    },
    "id": "uJA6jEdbKTPQ",
    "outputId": "d3e9cf4b-c345-44f5-c424-f20b1d0304f9"
   },
   "outputs": [
    {
     "data": {
      "image/png": "[encoded data removed]",
      "text/plain": [
       "<Figure size 432x288 with 1 Axes>"
      ]
     },
     "metadata": {
      "tags": []
     },
     "output_type": "display_data"
    },
    {
     "data": {
      "image/png": "[encoded data removed]",
      "text/plain": [
       "<Figure size 432x288 with 1 Axes>"
      ]
     },
     "metadata": {
      "tags": []
     },
     "output_type": "display_data"
    }
   ],
   "source": [
    "fun('politique','sport')\n",
    "cluster()"
   ]
  },
  {
   "cell_type": "code",
   "execution_count": null,
   "metadata": {
    "id": "hAuCQhnVJBVo"
   },
   "outputs": [],
   "source": [
    "# sport-culture"
   ]
  },
  {
   "cell_type": "code",
   "execution_count": null,
   "metadata": {},
   "outputs": [],
   "source": [
    "def fun1(C1 ,C2):\n",
    "  X = pivot_clusters[[C1, C2]].values\n",
    "  from sklearn.cluster import KMeans\n",
    "  wcss = []\n",
    "  for i in range(1, 11):\n",
    "    kmeans = KMeans(n_clusters=i, init='k-means++', n_init=10, max_iter=300, random_state=0)\n",
    "    kmeans.fit(X)\n",
    "    wcss.append(kmeans.inertia_)\n",
    "  plt.plot(range(1,11), wcss)\n",
    "  plt.xlabel('clusters')\n",
    "  plt.ylabel('wcss')\n",
    "  plt.show()\n",
    "def cluster1():\n",
    "  kmeans = KMeans(n_clusters=3, init='k-means++', n_init=10, max_iter=300, random_state=0)\n",
    "  Y_kmeans = kmeans.fit_predict(X)\n",
    "  plt.scatter(X[Y_kmeans==0, 0], X[Y_kmeans==0, 1], s=100, c='violet', label= 'Cluster 1')\n",
    "  plt.scatter(X[Y_kmeans==1, 0], X[Y_kmeans==1, 1], s=100, c='cyan', label= 'Cluster 2')\n",
    "  plt.scatter(X[Y_kmeans==2, 0], X[Y_kmeans==2, 1], s=100, c='green', label= 'Cluster 3')\n",
    "  plt.scatter(X[Y_kmeans==3, 0], X[Y_kmeans==3, 1], s=100, c='blue', label= 'Cluster 4')\n",
    "  plt.scatter(kmeans.cluster_centers_[:, 0], kmeans.cluster_centers_[:, 1], s=100, c='black', label='Centroids' )\n",
    "  plt.title('Clusters sport culture ')\n",
    "  plt.ylabel('culture tweets')\n",
    "  plt.xlabel('sport tweets')\n",
    "  plt.legend()\n",
    "  plt.show()"
   ]
  },
  {
   "cell_type": "code",
   "execution_count": null,
   "metadata": {},
   "outputs": [],
   "source": [
    "fun1('sport','culture')\n",
    "cluster1()"
   ]
  },
  {
   "cell_type": "code",
   "execution_count": null,
   "metadata": {},
   "outputs": [],
   "source": [
    "def fun2(C1 ,C2):\n",
    "  X = pivot_clusters[[C1, C2]].values\n",
    "  from sklearn.cluster import KMeans\n",
    "  wcss = []\n",
    "  for i in range(1, 11):\n",
    "    kmeans = KMeans(n_clusters=i, init='k-means++', n_init=10, max_iter=300, random_state=0)\n",
    "    kmeans.fit(X)\n",
    "    wcss.append(kmeans.inertia_)\n",
    "  plt.plot(range(1,11), wcss)\n",
    "  plt.xlabel('clusters')\n",
    "  plt.ylabel('wcss')\n",
    "  plt.show()\n",
    "def cluster2():\n",
    "  kmeans = KMeans(n_clusters=3, init='k-means++', n_init=10, max_iter=300, random_state=0)\n",
    "  Y_kmeans = kmeans.fit_predict(X)\n",
    "  plt.scatter(X[Y_kmeans==0, 0], X[Y_kmeans==0, 1], s=100, c='violet', label= 'Cluster 1')\n",
    "  plt.scatter(X[Y_kmeans==1, 0], X[Y_kmeans==1, 1], s=100, c='cyan', label= 'Cluster 2')\n",
    "  plt.scatter(X[Y_kmeans==2, 0], X[Y_kmeans==2, 1], s=100, c='green', label= 'Cluster 3')\n",
    "  plt.scatter(X[Y_kmeans==3, 0], X[Y_kmeans==3, 1], s=100, c='blue', label= 'Cluster 4')\n",
    "  plt.scatter(kmeans.cluster_centers_[:, 0], kmeans.cluster_centers_[:, 1], s=100, c='black', label='Centroids' )\n",
    "  plt.title('Clusters culture politique ')\n",
    "  plt.ylabel('politique tweets')\n",
    "  plt.xlabel('culture tweets')\n",
    "  plt.legend()\n",
    "  plt.show()"
   ]
  }
 ],
 "metadata": {
  "colab": {
   "collapsed_sections": [],
   "name": "Untitled5.ipynb",
   "provenance": []
  },
  "kernelspec": {
   "display_name": "Python 3",
   "language": "python",
   "name": "python3"
  },
  "language_info": {
   "codemirror_mode": {
    "name": "ipython",
    "version": 3
   },
   "file_extension": ".py",
   "mimetype": "text/x-python",
   "name": "python",
   "nbconvert_exporter": "python",
   "pygments_lexer": "ipython3",
   "version": "3.6.5"
  }
 },
 "nbformat": 4,
 "nbformat_minor": 1
}
