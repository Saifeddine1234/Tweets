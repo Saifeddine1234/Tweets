{
 "cells": [
  {
   "cell_type": "code",
   "execution_count": 49,
   "metadata": {
    "colab": {
     "base_uri": "https://localhost:8080/"
    },
    "id": "CMvojR67_u0B",
    "outputId": "5be62f0c-333d-4cef-a6d6-5c5a982f1d54"
   },
   "outputs": [
    {
     "name": "stdout",
     "output_type": "stream",
     "text": [
      "[nltk_data] Downloading package stopwords to\n",
      "[nltk_data]     C:\\Users\\SAIF\\AppData\\Roaming\\nltk_data...\n",
      "[nltk_data]   Package stopwords is already up-to-date!\n",
      "[nltk_data] Downloading package wordnet to\n",
      "[nltk_data]     C:\\Users\\SAIF\\AppData\\Roaming\\nltk_data...\n",
      "[nltk_data]   Package wordnet is already up-to-date!\n"
     ]
    }
   ],
   "source": [
    "#importations\n",
    "import tweepy\n",
    "from tweepy import API\n",
    "from tweepy import OAuthHandler\n",
    "import pandas as pd\n",
    "import matplotlib.pyplot as plt\n",
    "import csv\n",
    "from nltk.tokenize import RegexpTokenizer, WhitespaceTokenizer\n",
    "from nltk.stem import WordNetLemmatizer\n",
    "import nltk\n",
    "nltk.download('stopwords')\n",
    "nltk.download('wordnet')\n",
    "from nltk.corpus import stopwords\n",
    "from scipy import stats\n",
    "import string\n",
    "from string import punctuation\n",
    "import en_core_web_sm\n",
    "from sklearn.feature_extraction.text import TfidfVectorizer\n",
    "import seaborn as sns\n",
    "from sklearn.cluster import KMeans"
   ]
  },
  {
   "cell_type": "markdown",
   "metadata": {},
   "source": [
    "### 1. Télécharger les Tweets à partir de Twitter en utilisant l’API de twitter. Pour cela, vous devriez uncompte « Twitter Developer ». Pour cela, vous devriez télécharger au moins 10 mille twwets."
   ]
  },
  {
   "cell_type": "code",
   "execution_count": 6,
   "metadata": {
    "id": "sDP-0N_6_3ZT"
   },
   "outputs": [],
   "source": [
    "#definition des clés\n",
    "CONSUMER_KEY    = 'l0Ama9OIZYfUyJHWEo1TpDj0q'\n",
    "CONSUMER_SECRET = 'l3AIIGLyHfbczO1bpSS5KQqXZ8sMthGQRn9MzoikigkRhJX3tP'\n",
    "ACCESS_TOKEN  = '1328339246898434050-VkR8IxfpgSC4rLK37RbvADsdgAWpLd'\n",
    "ACCESS_SECRET = 'nHLrrrzXDIdD3pEEH7kzlnu9A9e1essHJb9IhO7swMkK4'\n",
    "\n",
    "#authentication\n",
    "auth = OAuthHandler(CONSUMER_KEY, CONSUMER_SECRET)\n",
    "auth.set_access_token(ACCESS_TOKEN, ACCESS_SECRET)\n",
    "#Configuration l'API importer de tweet\n",
    "api = tweepy.API(auth,wait_on_rate_limit=True)"
   ]
  },
  {
   "cell_type": "code",
   "execution_count": 19,
   "metadata": {
    "id": "2e0mqWNm_9kJ"
   },
   "outputs": [
    {
     "data": {
      "text/plain": [
       "'\\nfichier =\\'tweets\\'+\\'.csv\\'\\nwith open (fichier, \\'w\\', newline=\\'\\',encoding=\"utf-8\") as File:\\n    FileTab = csv.writer(File)\\n    FileTab.writerow([\\'Id\\',\\'Tweet\\',\\'Nom\\'])\\n    for tweet in tweepy.Cursor(api.search, q=\\'Politics\\', lang = \\'en\\').items(3000):\\n        tweets_encoded = tweet.text.encode(\\'utf-8\\')\\n        tweets_decoded = tweets_encoded.decode(\\'utf-8\\')\\n        FileTab.writerow([tweet.id,tweets_decoded,tweet.user.name])\\n    for tweet in tweepy.Cursor(api.search, q=\\'culture\\', lang = \\'en\\').items(3500):\\n        tweets_encoded = tweet.text.encode(\\'utf-8\\')\\n        tweets_decoded = tweets_encoded.decode(\\'utf-8\\')\\n        FileTab.writerow([tweet.id,tweets_decoded,tweet.user.name])\\n    for tweet in tweepy.Cursor(api.search, q=\\'sport\\', lang = \\'en\\').items(3500):\\n        tweets_encoded = tweet.text.encode(\\'utf-8\\')\\n        tweets_decoded = tweets_encoded.decode(\\'utf-8\\')\\n        FileTab.writerow([tweet.id,tweets_decoded,tweet.user.name])\\n'"
      ]
     },
     "execution_count": 19,
     "metadata": {},
     "output_type": "execute_result"
    }
   ],
   "source": [
    "#stocker les tweets dans un fichier CSV\n",
    "\"\"\"\n",
    "fichier ='tweets'+'.csv'\n",
    "with open (fichier, 'w', newline='',encoding=\"utf-8\") as File:\n",
    "    FileTab = csv.writer(File)\n",
    "    FileTab.writerow(['Id','Tweet','Nom'])\n",
    "    for tweet in tweepy.Cursor(api.search, q='Politics', lang = 'en').items(3000):\n",
    "        tweets_encoded = tweet.text.encode('utf-8')\n",
    "        tweets_decoded = tweets_encoded.decode('utf-8')\n",
    "        FileTab.writerow([tweet.id,tweets_decoded,tweet.user.name])\n",
    "    for tweet in tweepy.Cursor(api.search, q='culture', lang = 'en').items(3500):\n",
    "        tweets_encoded = tweet.text.encode('utf-8')\n",
    "        tweets_decoded = tweets_encoded.decode('utf-8')\n",
    "        FileTab.writerow([tweet.id,tweets_decoded,tweet.user.name])\n",
    "    for tweet in tweepy.Cursor(api.search, q='sport', lang = 'en').items(3500):\n",
    "        tweets_encoded = tweet.text.encode('utf-8')\n",
    "        tweets_decoded = tweets_encoded.decode('utf-8')\n",
    "        FileTab.writerow([tweet.id,tweets_decoded,tweet.user.name])\n",
    "\"\"\""
   ]
  },
  {
   "cell_type": "code",
   "execution_count": 25,
   "metadata": {
    "id": "oGVRNz9FAYot"
   },
   "outputs": [],
   "source": [
    "#récuperation des tweets de nouveau \n",
    "fichierTweet = pd.read_csv('tweets.csv')\n",
    "#read_csv : pour lire le fichier 'tweers.csv'"
   ]
  },
  {
   "cell_type": "code",
   "execution_count": 26,
   "metadata": {
    "colab": {
     "base_uri": "https://localhost:8080/",
     "height": 419
    },
    "id": "LRWvnAYaAbv9",
    "outputId": "fd0d5762-2c94-4395-ed51-89d22b122995"
   },
   "outputs": [
    {
     "data": {
      "text/html": [
       "<div>\n",
       "<style scoped>\n",
       "    .dataframe tbody tr th:only-of-type {\n",
       "        vertical-align: middle;\n",
       "    }\n",
       "\n",
       "    .dataframe tbody tr th {\n",
       "        vertical-align: top;\n",
       "    }\n",
       "\n",
       "    .dataframe thead th {\n",
       "        text-align: right;\n",
       "    }\n",
       "</style>\n",
       "<table border=\"1\" class=\"dataframe\">\n",
       "  <thead>\n",
       "    <tr style=\"text-align: right;\">\n",
       "      <th></th>\n",
       "      <th>Id</th>\n",
       "      <th>Tweet</th>\n",
       "      <th>Nom</th>\n",
       "    </tr>\n",
       "  </thead>\n",
       "  <tbody>\n",
       "    <tr>\n",
       "      <th>0</th>\n",
       "      <td>1338827158953725952</td>\n",
       "      <td>RT @Shehzad_Ind: So AAP in Delhi notified the ...</td>\n",
       "      <td>Ishwar Singh</td>\n",
       "    </tr>\n",
       "    <tr>\n",
       "      <th>1</th>\n",
       "      <td>1338827158211485696</td>\n",
       "      <td>Central Banks yet again played “saviours of la...</td>\n",
       "      <td>Simon Quijano-Evans</td>\n",
       "    </tr>\n",
       "    <tr>\n",
       "      <th>2</th>\n",
       "      <td>1338827153409007617</td>\n",
       "      <td>RT @CNNPolitics: JUST IN: The Electoral Colleg...</td>\n",
       "      <td>Anita</td>\n",
       "    </tr>\n",
       "    <tr>\n",
       "      <th>3</th>\n",
       "      <td>1338827151202807810</td>\n",
       "      <td>RT @ABC: \"In America, politicians don’t take p...</td>\n",
       "      <td>debra l. dooley</td>\n",
       "    </tr>\n",
       "    <tr>\n",
       "      <th>4</th>\n",
       "      <td>1338827150812647424</td>\n",
       "      <td>RT @NYDailyNews: America voted. The Supreme Co...</td>\n",
       "      <td>BidenBeatTrump2020</td>\n",
       "    </tr>\n",
       "    <tr>\n",
       "      <th>...</th>\n",
       "      <td>...</td>\n",
       "      <td>...</td>\n",
       "      <td>...</td>\n",
       "    </tr>\n",
       "    <tr>\n",
       "      <th>9995</th>\n",
       "      <td>1338813381545955328</td>\n",
       "      <td>RT @LivEchoLFC: Gerrard spoke about Houllier i...</td>\n",
       "      <td>Margaret Lloyd</td>\n",
       "    </tr>\n",
       "    <tr>\n",
       "      <th>9996</th>\n",
       "      <td>1338813379281113090</td>\n",
       "      <td>Is there a more dramatic sport than ⚽️? https:...</td>\n",
       "      <td>𝖱𝖮𝖡 𝖬𝖠𝖣𝖤𝖫𝖬𝖠𝖸𝖤𝖱</td>\n",
       "    </tr>\n",
       "    <tr>\n",
       "      <th>9997</th>\n",
       "      <td>1338813378563895298</td>\n",
       "      <td>@jakepaul @TheNotoriousMMA Yeah he's 0-1 again...</td>\n",
       "      <td>Conor Mackay</td>\n",
       "    </tr>\n",
       "    <tr>\n",
       "      <th>9998</th>\n",
       "      <td>1338813377678860295</td>\n",
       "      <td>An eye opening, brilliantly researched, and hu...</td>\n",
       "      <td>Nima Suchak</td>\n",
       "    </tr>\n",
       "    <tr>\n",
       "      <th>9999</th>\n",
       "      <td>1338813371286573056</td>\n",
       "      <td>RT @kenshropshire: Take a break and enjoy one ...</td>\n",
       "      <td>Arrianee LeBeau</td>\n",
       "    </tr>\n",
       "  </tbody>\n",
       "</table>\n",
       "<p>10000 rows × 3 columns</p>\n",
       "</div>"
      ],
      "text/plain": [
       "                       Id                                              Tweet  \\\n",
       "0     1338827158953725952  RT @Shehzad_Ind: So AAP in Delhi notified the ...   \n",
       "1     1338827158211485696  Central Banks yet again played “saviours of la...   \n",
       "2     1338827153409007617  RT @CNNPolitics: JUST IN: The Electoral Colleg...   \n",
       "3     1338827151202807810  RT @ABC: \"In America, politicians don’t take p...   \n",
       "4     1338827150812647424  RT @NYDailyNews: America voted. The Supreme Co...   \n",
       "...                   ...                                                ...   \n",
       "9995  1338813381545955328  RT @LivEchoLFC: Gerrard spoke about Houllier i...   \n",
       "9996  1338813379281113090  Is there a more dramatic sport than ⚽️? https:...   \n",
       "9997  1338813378563895298  @jakepaul @TheNotoriousMMA Yeah he's 0-1 again...   \n",
       "9998  1338813377678860295  An eye opening, brilliantly researched, and hu...   \n",
       "9999  1338813371286573056  RT @kenshropshire: Take a break and enjoy one ...   \n",
       "\n",
       "                      Nom  \n",
       "0            Ishwar Singh  \n",
       "1     Simon Quijano-Evans  \n",
       "2                   Anita  \n",
       "3         debra l. dooley  \n",
       "4      BidenBeatTrump2020  \n",
       "...                   ...  \n",
       "9995       Margaret Lloyd  \n",
       "9996       𝖱𝖮𝖡 𝖬𝖠𝖣𝖤𝖫𝖬𝖠𝖸𝖤𝖱  \n",
       "9997         Conor Mackay  \n",
       "9998          Nima Suchak  \n",
       "9999      Arrianee LeBeau  \n",
       "\n",
       "[10000 rows x 3 columns]"
      ]
     },
     "execution_count": 26,
     "metadata": {},
     "output_type": "execute_result"
    }
   ],
   "source": [
    "fichierTweet.head(10000)"
   ]
  },
  {
   "cell_type": "markdown",
   "metadata": {},
   "source": [
    "#### => On utilise l' API de Twitter je recuperer un tableau de 10 mill lignes et de trois columns contient des tweets de categorie differant "
   ]
  },
  {
   "cell_type": "markdown",
   "metadata": {},
   "source": [
    "### 2. Utiliser la bibliothèque NLTK pour effectuer une analyse de chaque tweet et le transformer en un ensemble de mots en suivant les différentes étapes de base du processus NLP "
   ]
  },
  {
   "cell_type": "markdown",
   "metadata": {
    "id": "h9wyeZuIAeoP"
   },
   "source": [
    "#### nettoyage des Tweets"
   ]
  },
  {
   "cell_type": "code",
   "execution_count": 40,
   "metadata": {
    "colab": {
     "base_uri": "https://localhost:8080/",
     "height": 419
    },
    "id": "VJchhsb3Aiuk",
    "outputId": "cb79f30a-840f-452a-da5b-1b11e7fde62b"
   },
   "outputs": [
    {
     "data": {
      "text/html": [
       "<div>\n",
       "<style scoped>\n",
       "    .dataframe tbody tr th:only-of-type {\n",
       "        vertical-align: middle;\n",
       "    }\n",
       "\n",
       "    .dataframe tbody tr th {\n",
       "        vertical-align: top;\n",
       "    }\n",
       "\n",
       "    .dataframe thead th {\n",
       "        text-align: right;\n",
       "    }\n",
       "</style>\n",
       "<table border=\"1\" class=\"dataframe\">\n",
       "  <thead>\n",
       "    <tr style=\"text-align: right;\">\n",
       "      <th></th>\n",
       "      <th>Id</th>\n",
       "      <th>Tweet</th>\n",
       "      <th>Nom</th>\n",
       "    </tr>\n",
       "  </thead>\n",
       "  <tbody>\n",
       "    <tr>\n",
       "      <th>0</th>\n",
       "      <td>1338827158953725952</td>\n",
       "      <td>rt ind so aap in delhi notified the new farm l...</td>\n",
       "      <td>ishwar singh</td>\n",
       "    </tr>\n",
       "    <tr>\n",
       "      <th>1</th>\n",
       "      <td>1338827158211485696</td>\n",
       "      <td>central banks yet again played saviours of las...</td>\n",
       "      <td>simon quijano-evans</td>\n",
       "    </tr>\n",
       "    <tr>\n",
       "      <th>2</th>\n",
       "      <td>1338827153409007617</td>\n",
       "      <td>rt  just in the electoral college affirms pres...</td>\n",
       "      <td>anita</td>\n",
       "    </tr>\n",
       "    <tr>\n",
       "      <th>3</th>\n",
       "      <td>1338827151202807810</td>\n",
       "      <td>rt  in america politicians dont take power peo...</td>\n",
       "      <td>debra l. dooley</td>\n",
       "    </tr>\n",
       "    <tr>\n",
       "      <th>4</th>\n",
       "      <td>1338827150812647424</td>\n",
       "      <td>rt  america voted the supreme court ruled now ...</td>\n",
       "      <td>bidenbeattrump2020</td>\n",
       "    </tr>\n",
       "    <tr>\n",
       "      <th>...</th>\n",
       "      <td>...</td>\n",
       "      <td>...</td>\n",
       "      <td>...</td>\n",
       "    </tr>\n",
       "    <tr>\n",
       "      <th>995</th>\n",
       "      <td>1338825666205282304</td>\n",
       "      <td>rt duguid the recent revelation that a private...</td>\n",
       "      <td>graham</td>\n",
       "    </tr>\n",
       "    <tr>\n",
       "      <th>996</th>\n",
       "      <td>1338825660270145539</td>\n",
       "      <td>rt  the pandemic will only be over when its ov...</td>\n",
       "      <td>சரவணன்</td>\n",
       "    </tr>\n",
       "    <tr>\n",
       "      <th>997</th>\n",
       "      <td>1338825658487726081</td>\n",
       "      <td>rt  of 17 republican attorneys general who had...</td>\n",
       "      <td>bryan priest</td>\n",
       "    </tr>\n",
       "    <tr>\n",
       "      <th>998</th>\n",
       "      <td>1338825654884823040</td>\n",
       "      <td>rt  ace and ubaba jacob zuma make me angru cau...</td>\n",
       "      <td>sthe biyela</td>\n",
       "    </tr>\n",
       "    <tr>\n",
       "      <th>999</th>\n",
       "      <td>1338825654771609600</td>\n",
       "      <td>rt  azerbaijani hostages dilgam asgarov and sh...</td>\n",
       "      <td>gunay aze</td>\n",
       "    </tr>\n",
       "  </tbody>\n",
       "</table>\n",
       "<p>1000 rows × 3 columns</p>\n",
       "</div>"
      ],
      "text/plain": [
       "                      Id                                              Tweet  \\\n",
       "0    1338827158953725952  rt ind so aap in delhi notified the new farm l...   \n",
       "1    1338827158211485696  central banks yet again played saviours of las...   \n",
       "2    1338827153409007617  rt  just in the electoral college affirms pres...   \n",
       "3    1338827151202807810  rt  in america politicians dont take power peo...   \n",
       "4    1338827150812647424  rt  america voted the supreme court ruled now ...   \n",
       "..                   ...                                                ...   \n",
       "995  1338825666205282304  rt duguid the recent revelation that a private...   \n",
       "996  1338825660270145539  rt  the pandemic will only be over when its ov...   \n",
       "997  1338825658487726081  rt  of 17 republican attorneys general who had...   \n",
       "998  1338825654884823040  rt  ace and ubaba jacob zuma make me angru cau...   \n",
       "999  1338825654771609600  rt  azerbaijani hostages dilgam asgarov and sh...   \n",
       "\n",
       "                     Nom  \n",
       "0           ishwar singh  \n",
       "1    simon quijano-evans  \n",
       "2                  anita  \n",
       "3        debra l. dooley  \n",
       "4     bidenbeattrump2020  \n",
       "..                   ...  \n",
       "995               graham  \n",
       "996               சரவணன்  \n",
       "997         bryan priest  \n",
       "998          sthe biyela  \n",
       "999            gunay aze  \n",
       "\n",
       "[1000 rows x 3 columns]"
      ]
     },
     "execution_count": 40,
     "metadata": {},
     "output_type": "execute_result"
    }
   ],
   "source": [
    "import re\n",
    "def nettoyage(df, tweet):\n",
    "    df[tweet] = df[tweet].str.lower()\n",
    "    #Convertissez String en minuscules.\n",
    "    df[tweet] = df[tweet].apply(lambda x: re.sub(r\"(@[A-Za-z0-9]+)|([^0-9A-Za-z \\t])|(\\w+:\\/\\/\\S+)|\" \"|^rt|http.+?|([0-9])\", \"\", x))\n",
    "    return df\n",
    "\n",
    "tweet_nettoyer = nettoyage(fichierTweet,'Tweet')\n",
    "tweet_nettoyer.head(1000)"
   ]
  },
  {
   "cell_type": "markdown",
   "metadata": {},
   "source": [
    "#### processus NLP "
   ]
  },
  {
   "cell_type": "code",
   "execution_count": 41,
   "metadata": {
    "id": "AAsaEzhRAlxL"
   },
   "outputs": [],
   "source": [
    "nlp = en_core_web_sm.load()\n",
    "tokenizer = RegexpTokenizer(r'\\w+')\n",
    "lemmatizer = WordNetLemmatizer()\n",
    "stop = set(stopwords.words('english'))\n",
    "punctuation = list(string.punctuation)\n",
    "stop.update(punctuation)\n",
    "w_tokenizer = WhitespaceTokenizer()\n",
    "\n",
    "# fonction pour prétraitement l'ensemble des mots           \n",
    "def furnished(text):\n",
    "    final_text = []\n",
    "    for i in text.split():\n",
    "        if i.lower() not in stop:\n",
    "            word = lemmatizer.lemmatize(i)\n",
    "            final_text.append(word.lower())\n",
    "    return \" \".join(final_text)"
   ]
  },
  {
   "cell_type": "code",
   "execution_count": 42,
   "metadata": {
    "id": "uF9O0rW4A3hx"
   },
   "outputs": [],
   "source": [
    "mots_Politics = ''' government diplomatic law political aristotle politics diplomatical governance republic public administration\n",
    "politician smooth suave state local government expedient sagacious police election political monarchy parliament dukes sovereign state\n",
    "polity regime democratic ethics communism federation anarchism authoritarianism populism bland aristocracy tribe power negotiation\n",
    "force warfare city clans tribes company country plato confucius latin kingship earls politically counts tribute lordship property inheritance\n",
    "confiscation individualist allegiance espionage conspiracy treason jewish gentile convention observance celibacy pope taxation petition legislation majority\n",
    "collegial permeates greek language flabby permeating communication commerce  governmental pervades permeated abstract straitjacket justice myopic\n",
    "discernment curfew consciences revenue pervading pervade matriarchal numbed juridical rightness unaccountable clannish civilised transfigured deliberative\n",
    "monopoly fatness paternalis mmonkish coin principle sinfulness perverted morass lawmaking'''"
   ]
  },
  {
   "cell_type": "markdown",
   "metadata": {},
   "source": [
    "#### => c'est la list des mots on relation avec \"politics\""
   ]
  },
  {
   "cell_type": "code",
   "execution_count": 43,
   "metadata": {
    "id": "PIleM5VuP7wq"
   },
   "outputs": [],
   "source": [
    "mots_sport = '''racing competition athletics spectator sport game gymnastics basketball team sportsman cycling fun skating tennis soccer leisure football \n",
    "athletic games baseball sportswoman position play disport lark boast mutation frolic skylark romp gambol mutant feature  rugby union \n",
    "frisk cavort rollick offside call referee champion skiing riding ski rowing netball diversion coach athlete hockey athletes\n",
    "entertainment olympic coaches polo outdoor sport team sport professional football business lead playing golftelevision chess\n",
    "running go sportsperson sports sportaccord competitive club race gym youth challenge teams track super pleasure class event exercise\n",
    "venue activity standards fitness son variation summercater tournament playoffs athleticism dexterity sumo line occupation wipeout\n",
    "flip pass toss recreation aquatics row archery sledding equitation shot stroke foul possession judo save tuck shooter timekeeper\n",
    "timer deficit average bout round turn surge seed curl start field shoot umpire drop down bandy submarine kick punt drive\n",
    "racket carry dribble cut box hike mountaineer rappel backpack pack skate skateboard sled sleigh bob bobsled luge toboggan\n",
    "scull canoe kayak paddle surf surfboard jackknife snorkel hurdle loose legal disqualified home away ineligible defending\n",
    "onside underarm underhand underhanded overhand upfield humor humour wit witticism jocularity clowning comedy draughts\n",
    "tradition goal funambulism birling logrollingoutclass double-team '''\n"
   ]
  },
  {
   "cell_type": "markdown",
   "metadata": {},
   "source": [
    "#### => c'est la list des mots on relation avec \"Sport\""
   ]
  },
  {
   "cell_type": "code",
   "execution_count": 44,
   "metadata": {
    "id": "7AALJqgcQAK4"
   },
   "outputs": [],
   "source": [
    "mots_culture  = '''\n",
    "society civilization philosophy anthropology subculture acculturation religion cultivation nationalism counterculture\n",
    "cultural ideology art popular folklore agriculture country writing music monoculture cyberculture language\n",
    "anthropology cooking literature science growth tillage grow ritual perfection development metaphor concept\n",
    "symbol mythology gender tradition archaeology clothing traditions traditional western culture contemporary\n",
    "multiculturalism elite politics ethnicity heritage sociology modernity spirituality marxism ethos nationality\n",
    "humanism romanticism finish polish refinement civilisation traditionalism genetics human learning interaction kinship heredity\n",
    "marriage dance technology shelter growing biology starter viticulture discernment content maturation appreciation ontogeny\n",
    "archeology attitude taste letters institutions humanities acculturate jewelry flawlessness perceptiveness ontogenesis\n",
    "viniculture meme modern capitalism clothes cultures social intellectual especially nature religious rooted\n",
    "context cicero societies popular history literary roots important geography historical\n",
    "folk particular origins phenomenon teleology ancient aspects perspective particularly rousseau architecture life inspired\n",
    "liberalism influence landscape flourishing urban circles everyday refers foremost ideas aesthetics thriving indigenous\n",
    "peoples such famous example known chinese describe nowadays community style knowledge unique prevalent describes environment classical\n",
    " today common originv interests great behavioral modernity most besides well beliefs importance emphasis kind understanding\n",
    "themes genre regarded '''"
   ]
  },
  {
   "cell_type": "markdown",
   "metadata": {},
   "source": [
    "#### => c'est la list des mots on relation avec \"culture\""
   ]
  },
  {
   "cell_type": "markdown",
   "metadata": {},
   "source": [
    "#### apliquer le pocessus NLP "
   ]
  },
  {
   "cell_type": "code",
   "execution_count": 45,
   "metadata": {
    "id": "PLbLBTvAR-x4"
   },
   "outputs": [],
   "source": [
    "politique = furnished(mots_Politics)\n",
    "sport = furnished(mots_sport)\n",
    "culture = furnished(mots_culture)"
   ]
  },
  {
   "cell_type": "markdown",
   "metadata": {
    "id": "Qati8lhvS1W7"
   },
   "source": [
    "#### Vectoriser et standardiser les mots"
   ]
  },
  {
   "cell_type": "code",
   "execution_count": 46,
   "metadata": {
    "id": "EemRMhKrSgKl"
   },
   "outputs": [],
   "source": [
    "def get_vectors(*strs):\n",
    "    text = [t for t in strs]\n",
    "    vectorizer = TfidfVectorizer(text)\n",
    "    vectorizer.fit(text)\n",
    "    return vectorizer.transform(text).toarray()"
   ]
  },
  {
   "cell_type": "markdown",
   "metadata": {},
   "source": [
    "#### appliquer get_vectors"
   ]
  },
  {
   "cell_type": "code",
   "execution_count": 47,
   "metadata": {
    "id": "5QgSQ6k2S6HZ"
   },
   "outputs": [],
   "source": [
    "vecteur_Politics = get_vectors(politique)\n",
    "vecteur_Sport = get_vectors(sport)\n",
    "vecteur_Culture = get_vectors(culture)"
   ]
  },
  {
   "cell_type": "markdown",
   "metadata": {},
   "source": [
    "#### => Vectoriser les ensembles de mots, puis les standardiser\n",
    "#### => donner un valeur pour chaque ligne "
   ]
  },
  {
   "cell_type": "code",
   "execution_count": 50,
   "metadata": {
    "colab": {
     "base_uri": "https://localhost:8080/"
    },
    "id": "2pzVNrGkTuQI",
    "outputId": "4b0ac82c-96ec-49cb-fe1a-229cf2d6fe7d"
   },
   "outputs": [
    {
     "data": {
      "text/plain": [
       "array([[0.09016696, 0.09016696, 0.09016696, 0.09016696, 0.09016696,\n",
       "        0.09016696, 0.09016696, 0.09016696, 0.09016696, 0.09016696,\n",
       "        0.09016696, 0.09016696, 0.09016696, 0.09016696, 0.09016696,\n",
       "        0.09016696, 0.09016696, 0.09016696, 0.09016696, 0.09016696,\n",
       "        0.09016696, 0.09016696, 0.09016696, 0.09016696, 0.09016696,\n",
       "        0.09016696, 0.09016696, 0.09016696, 0.09016696, 0.09016696,\n",
       "        0.09016696, 0.09016696, 0.09016696, 0.09016696, 0.09016696,\n",
       "        0.09016696, 0.09016696, 0.09016696, 0.09016696, 0.09016696,\n",
       "        0.09016696, 0.09016696, 0.09016696, 0.09016696, 0.18033393,\n",
       "        0.09016696, 0.09016696, 0.09016696, 0.09016696, 0.09016696,\n",
       "        0.09016696, 0.09016696, 0.09016696, 0.09016696, 0.09016696,\n",
       "        0.09016696, 0.09016696, 0.09016696, 0.09016696, 0.09016696,\n",
       "        0.09016696, 0.09016696, 0.09016696, 0.09016696, 0.09016696,\n",
       "        0.09016696, 0.09016696, 0.09016696, 0.09016696, 0.09016696,\n",
       "        0.09016696, 0.09016696, 0.09016696, 0.09016696, 0.09016696,\n",
       "        0.09016696, 0.09016696, 0.09016696, 0.09016696, 0.09016696,\n",
       "        0.09016696, 0.09016696, 0.18033393, 0.09016696, 0.09016696,\n",
       "        0.09016696, 0.09016696, 0.09016696, 0.09016696, 0.09016696,\n",
       "        0.09016696, 0.09016696, 0.09016696, 0.09016696, 0.09016696,\n",
       "        0.09016696, 0.09016696, 0.09016696, 0.09016696, 0.09016696,\n",
       "        0.09016696, 0.18033393, 0.09016696, 0.09016696, 0.09016696,\n",
       "        0.09016696, 0.09016696, 0.18033393, 0.09016696, 0.09016696,\n",
       "        0.09016696]])"
      ]
     },
     "execution_count": 50,
     "metadata": {},
     "output_type": "execute_result"
    }
   ],
   "source": [
    "vecteur_Politics"
   ]
  },
  {
   "cell_type": "markdown",
   "metadata": {},
   "source": [
    "#### Vectoriser les tweets\n"
   ]
  },
  {
   "cell_type": "code",
   "execution_count": 57,
   "metadata": {
    "id": "MbBWcARUULEG"
   },
   "outputs": [],
   "source": [
    "tv=TfidfVectorizer()\n",
    "tfidf_tweets =tv.fit_transform(fichierTweet.Tweet)"
   ]
  },
  {
   "cell_type": "code",
   "execution_count": 58,
   "metadata": {
    "id": "cMHD0PdqU72r"
   },
   "outputs": [],
   "source": [
    "def jaccard_similarity(query, document):\n",
    "    intersection = set(query).intersection(set(document))\n",
    "    union = set(query).union(set(document))\n",
    "    return len(intersection)/len(union)\n",
    "def get_scores(group,tweets):\n",
    "    scores = []\n",
    "    for tweet in tweets:\n",
    "        s = jaccard_similarity(group, tweet)\n",
    "        scores.append(s)\n",
    "    return scores"
   ]
  },
  {
   "cell_type": "markdown",
   "metadata": {},
   "source": [
    "#### => La similitude Jaccard est bonne pour les cas où la duplication n'a pas d'importance,La similitude cosinus est bonne pour les cas où la duplication est importante lors de l'analyse de la similitude du texte. Pour deux descriptions de produits, il vaudra mieux utiliser la similitude de Jaccard car la répétition d'un mot ne réduit pas leur similitude."
   ]
  },
  {
   "cell_type": "markdown",
   "metadata": {},
   "source": [
    "#### => On applique cette resultat optenu aprés le prétraitement pour optenir un score pour chaque categorie "
   ]
  },
  {
   "cell_type": "code",
   "execution_count": 59,
   "metadata": {
    "colab": {
     "base_uri": "https://localhost:8080/"
    },
    "id": "McsfO42uVUys",
    "outputId": "998e31d1-5a42-4fb0-b915-8a92363ffeba"
   },
   "outputs": [
    {
     "data": {
      "text/plain": [
       "[0.5,\n",
       " 0.8846153846153846,\n",
       " 0.88,\n",
       " 0.6428571428571429,\n",
       " 0.84,\n",
       " 0.7777777777777778,\n",
       " 0.68,\n",
       " 0.6176470588235294,\n",
       " 0.76,\n",
       " 0.76,\n",
       " 0.8,\n",
       " 0.56,\n",
       " 0.7777777777777778,\n",
       " 0.88,\n",
       " 0.88]"
      ]
     },
     "execution_count": 59,
     "metadata": {},
     "output_type": "execute_result"
    }
   ],
   "source": [
    "Score_Politics = get_scores(politique,fichierTweet.Tweet.to_list())\n",
    "Score_Politics[-15:]"
   ]
  },
  {
   "cell_type": "code",
   "execution_count": 60,
   "metadata": {
    "colab": {
     "base_uri": "https://localhost:8080/"
    },
    "id": "y9RfzgYKVqJp",
    "outputId": "f614ff26-c70f-4b7d-884a-501386aea213"
   },
   "outputs": [
    {
     "data": {
      "text/plain": [
       "[0.7241379310344828,\n",
       " 0.6296296296296297,\n",
       " 0.5833333333333334,\n",
       " 0.7037037037037037,\n",
       " 0.7037037037037037,\n",
       " 0.7407407407407407,\n",
       " 0.5185185185185185,\n",
       " 0.7241379310344828,\n",
       " 0.8148148148148148,\n",
       " 0.8148148148148148]"
      ]
     },
     "execution_count": 60,
     "metadata": {},
     "output_type": "execute_result"
    }
   ],
   "source": [
    "Score_Sport = get_scores(sport,fichierTweet.Tweet.to_list())\n",
    "Score_Sport[-10:]"
   ]
  },
  {
   "cell_type": "code",
   "execution_count": 61,
   "metadata": {
    "colab": {
     "base_uri": "https://localhost:8080/"
    },
    "id": "16wAfKwVdiwP",
    "outputId": "45c3e52a-e5f3-4864-b272-bd6ce115d7d1"
   },
   "outputs": [
    {
     "data": {
      "text/plain": [
       "[0.4666666666666667,\n",
       " 0.8888888888888888,\n",
       " 0.8148148148148148,\n",
       " 0.6,\n",
       " 0.7777777777777778,\n",
       " 0.7241379310344828,\n",
       " 0.6296296296296297,\n",
       " 0.6285714285714286,\n",
       " 0.7037037037037037,\n",
       " 0.7037037037037037,\n",
       " 0.7407407407407407,\n",
       " 0.5185185185185185,\n",
       " 0.7241379310344828,\n",
       " 0.8148148148148148,\n",
       " 0.8148148148148148]"
      ]
     },
     "execution_count": 61,
     "metadata": {},
     "output_type": "execute_result"
    }
   ],
   "source": [
    "Score_Culture = get_scores(culture,fichierTweet.Tweet.to_list())\n",
    "Score_Culture[-15:]"
   ]
  },
  {
   "cell_type": "code",
   "execution_count": 62,
   "metadata": {
    "id": "59Vu_RurfuUB"
   },
   "outputs": [],
   "source": [
    "Nom_List=fichierTweet.Nom.to_list()\n",
    "Tweet_List=fichierTweet.Tweet.to_list()"
   ]
  },
  {
   "cell_type": "code",
   "execution_count": 72,
   "metadata": {
    "colab": {
     "base_uri": "https://localhost:8080/",
     "height": 669
    },
    "id": "PLSHORbUd9eP",
    "outputId": "43570e27-d4b8-4dd9-fbe8-009f642f8163"
   },
   "outputs": [
    {
     "data": {
      "text/html": [
       "<div>\n",
       "<style scoped>\n",
       "    .dataframe tbody tr th:only-of-type {\n",
       "        vertical-align: middle;\n",
       "    }\n",
       "\n",
       "    .dataframe tbody tr th {\n",
       "        vertical-align: top;\n",
       "    }\n",
       "\n",
       "    .dataframe thead th {\n",
       "        text-align: right;\n",
       "    }\n",
       "</style>\n",
       "<table border=\"1\" class=\"dataframe\">\n",
       "  <thead>\n",
       "    <tr style=\"text-align: right;\">\n",
       "      <th></th>\n",
       "      <th>nom</th>\n",
       "      <th>politique</th>\n",
       "      <th>sport</th>\n",
       "      <th>culture</th>\n",
       "    </tr>\n",
       "  </thead>\n",
       "  <tbody>\n",
       "    <tr>\n",
       "      <th>0</th>\n",
       "      <td>ishwar singh</td>\n",
       "      <td>0.758621</td>\n",
       "      <td>0.709677</td>\n",
       "      <td>0.709677</td>\n",
       "    </tr>\n",
       "    <tr>\n",
       "      <th>1</th>\n",
       "      <td>simon quijano-evans</td>\n",
       "      <td>0.880000</td>\n",
       "      <td>0.814815</td>\n",
       "      <td>0.814815</td>\n",
       "    </tr>\n",
       "    <tr>\n",
       "      <th>2</th>\n",
       "      <td>anita</td>\n",
       "      <td>0.880000</td>\n",
       "      <td>0.814815</td>\n",
       "      <td>0.814815</td>\n",
       "    </tr>\n",
       "    <tr>\n",
       "      <th>3</th>\n",
       "      <td>debra l. dooley</td>\n",
       "      <td>0.920000</td>\n",
       "      <td>0.851852</td>\n",
       "      <td>0.851852</td>\n",
       "    </tr>\n",
       "    <tr>\n",
       "      <th>4</th>\n",
       "      <td>bidenbeattrump2020</td>\n",
       "      <td>0.880000</td>\n",
       "      <td>0.814815</td>\n",
       "      <td>0.814815</td>\n",
       "    </tr>\n",
       "    <tr>\n",
       "      <th>5</th>\n",
       "      <td>steve w</td>\n",
       "      <td>0.920000</td>\n",
       "      <td>0.851852</td>\n",
       "      <td>0.851852</td>\n",
       "    </tr>\n",
       "    <tr>\n",
       "      <th>6</th>\n",
       "      <td>kim</td>\n",
       "      <td>0.760000</td>\n",
       "      <td>0.703704</td>\n",
       "      <td>0.703704</td>\n",
       "    </tr>\n",
       "    <tr>\n",
       "      <th>7</th>\n",
       "      <td>poulton labour</td>\n",
       "      <td>0.800000</td>\n",
       "      <td>0.740741</td>\n",
       "      <td>0.740741</td>\n",
       "    </tr>\n",
       "    <tr>\n",
       "      <th>8</th>\n",
       "      <td>🇨🇦victorian #wearamask</td>\n",
       "      <td>0.720000</td>\n",
       "      <td>0.666667</td>\n",
       "      <td>0.666667</td>\n",
       "    </tr>\n",
       "    <tr>\n",
       "      <th>9</th>\n",
       "      <td>steel slacks</td>\n",
       "      <td>0.769231</td>\n",
       "      <td>0.714286</td>\n",
       "      <td>0.777778</td>\n",
       "    </tr>\n",
       "    <tr>\n",
       "      <th>10</th>\n",
       "      <td>chi</td>\n",
       "      <td>0.800000</td>\n",
       "      <td>0.740741</td>\n",
       "      <td>0.740741</td>\n",
       "    </tr>\n",
       "    <tr>\n",
       "      <th>11</th>\n",
       "      <td>david (vote dogs)</td>\n",
       "      <td>0.960000</td>\n",
       "      <td>0.888889</td>\n",
       "      <td>0.888889</td>\n",
       "    </tr>\n",
       "    <tr>\n",
       "      <th>12</th>\n",
       "      <td>steve</td>\n",
       "      <td>0.840000</td>\n",
       "      <td>0.777778</td>\n",
       "      <td>0.777778</td>\n",
       "    </tr>\n",
       "    <tr>\n",
       "      <th>13</th>\n",
       "      <td>melissa, dragon slayer🌳🌎 👷‍♀️🐲🗡</td>\n",
       "      <td>0.360000</td>\n",
       "      <td>0.333333</td>\n",
       "      <td>0.333333</td>\n",
       "    </tr>\n",
       "    <tr>\n",
       "      <th>14</th>\n",
       "      <td>stasia</td>\n",
       "      <td>0.880000</td>\n",
       "      <td>0.814815</td>\n",
       "      <td>0.814815</td>\n",
       "    </tr>\n",
       "    <tr>\n",
       "      <th>15</th>\n",
       "      <td>waldo</td>\n",
       "      <td>0.880000</td>\n",
       "      <td>0.814815</td>\n",
       "      <td>0.814815</td>\n",
       "    </tr>\n",
       "    <tr>\n",
       "      <th>16</th>\n",
       "      <td>worldwide citizens</td>\n",
       "      <td>0.840000</td>\n",
       "      <td>0.777778</td>\n",
       "      <td>0.777778</td>\n",
       "    </tr>\n",
       "    <tr>\n",
       "      <th>17</th>\n",
       "      <td>michael s roth</td>\n",
       "      <td>0.769231</td>\n",
       "      <td>0.777778</td>\n",
       "      <td>0.777778</td>\n",
       "    </tr>\n",
       "    <tr>\n",
       "      <th>18</th>\n",
       "      <td>sneha suryavanshi</td>\n",
       "      <td>0.758621</td>\n",
       "      <td>0.709677</td>\n",
       "      <td>0.709677</td>\n",
       "    </tr>\n",
       "    <tr>\n",
       "      <th>19</th>\n",
       "      <td>iain simpson</td>\n",
       "      <td>0.840000</td>\n",
       "      <td>0.777778</td>\n",
       "      <td>0.777778</td>\n",
       "    </tr>\n",
       "  </tbody>\n",
       "</table>\n",
       "</div>"
      ],
      "text/plain": [
       "                                nom  politique     sport   culture\n",
       "0                      ishwar singh   0.758621  0.709677  0.709677\n",
       "1               simon quijano-evans   0.880000  0.814815  0.814815\n",
       "2                             anita   0.880000  0.814815  0.814815\n",
       "3                   debra l. dooley   0.920000  0.851852  0.851852\n",
       "4                bidenbeattrump2020   0.880000  0.814815  0.814815\n",
       "5                           steve w   0.920000  0.851852  0.851852\n",
       "6                               kim   0.760000  0.703704  0.703704\n",
       "7                    poulton labour   0.800000  0.740741  0.740741\n",
       "8            🇨🇦victorian #wearamask   0.720000  0.666667  0.666667\n",
       "9                      steel slacks   0.769231  0.714286  0.777778\n",
       "10                              chi   0.800000  0.740741  0.740741\n",
       "11                david (vote dogs)   0.960000  0.888889  0.888889\n",
       "12                            steve   0.840000  0.777778  0.777778\n",
       "13  melissa, dragon slayer🌳🌎 👷‍♀️🐲🗡   0.360000  0.333333  0.333333\n",
       "14                           stasia   0.880000  0.814815  0.814815\n",
       "15                            waldo   0.880000  0.814815  0.814815\n",
       "16               worldwide citizens   0.840000  0.777778  0.777778\n",
       "17                   michael s roth   0.769231  0.777778  0.777778\n",
       "18                sneha suryavanshi   0.758621  0.709677  0.709677\n",
       "19                     iain simpson   0.840000  0.777778  0.777778"
      ]
     },
     "execution_count": 72,
     "metadata": {},
     "output_type": "execute_result"
    }
   ],
   "source": [
    "data  = {'nom':Nom_List,'politique': Score_Politics, 'sport': Score_Sport, 'culture':Score_Culture}\n",
    "df_sc = pd.DataFrame(data)\n",
    "df_sc.head(20)"
   ]
  },
  {
   "cell_type": "markdown",
   "metadata": {},
   "source": [
    "#### => optenir d'un nouveau tableau contient les scores des de chaque categorie "
   ]
  },
  {
   "cell_type": "markdown",
   "metadata": {},
   "source": [
    "### 3. Utiliser l’algorithme K-Means pour classer les Tweets en k classes "
   ]
  },
  {
   "cell_type": "markdown",
   "metadata": {},
   "source": [
    "#### Attribution réelle des classes aux tweets"
   ]
  },
  {
   "cell_type": "code",
   "execution_count": 73,
   "metadata": {
    "id": "nHLYaZ8Df9Ke"
   },
   "outputs": [],
   "source": [
    "def get_clusters(l1, l2, l3):\n",
    "    pol = []\n",
    "    sp = []\n",
    "    cul = []\n",
    "    for i, j, k in zip(l1, l2, l3):\n",
    "        m = max(i, j, k)\n",
    "        if m == i:\n",
    "            pol.append(1)\n",
    "        else:\n",
    "            pol.append(0)\n",
    "        if m == j:\n",
    "            sp.append(1)\n",
    "        else:\n",
    "            sp.append(0)        \n",
    "        if m == k:\n",
    "            cul.append(1)\n",
    "        else:\n",
    "            cul.append(0)              \n",
    "    return pol, sp, cul,"
   ]
  },
  {
   "cell_type": "code",
   "execution_count": 74,
   "metadata": {
    "id": "18ahH-CIMMg9"
   },
   "outputs": [],
   "source": [
    "l1 = df_sc.politique.to_list()\n",
    "l2 = df_sc.sport.to_list()\n",
    "l3 = df_sc.culture.to_list()\n",
    "\n",
    "pol, sp, cul = get_clusters(l1, l2, l3)"
   ]
  },
  {
   "cell_type": "code",
   "execution_count": 66,
   "metadata": {
    "colab": {
     "base_uri": "https://localhost:8080/",
     "height": 669
    },
    "id": "jn5O3EuaNTVE",
    "outputId": "2d816f35-b05e-43c9-fd2b-f7da8033010b"
   },
   "outputs": [
    {
     "data": {
      "text/html": [
       "<div>\n",
       "<style scoped>\n",
       "    .dataframe tbody tr th:only-of-type {\n",
       "        vertical-align: middle;\n",
       "    }\n",
       "\n",
       "    .dataframe tbody tr th {\n",
       "        vertical-align: top;\n",
       "    }\n",
       "\n",
       "    .dataframe thead th {\n",
       "        text-align: right;\n",
       "    }\n",
       "</style>\n",
       "<table border=\"1\" class=\"dataframe\">\n",
       "  <thead>\n",
       "    <tr style=\"text-align: right;\">\n",
       "      <th></th>\n",
       "      <th>nom</th>\n",
       "      <th>politique</th>\n",
       "      <th>sport</th>\n",
       "      <th>culture</th>\n",
       "    </tr>\n",
       "  </thead>\n",
       "  <tbody>\n",
       "    <tr>\n",
       "      <th>0</th>\n",
       "      <td>ishwar singh</td>\n",
       "      <td>1</td>\n",
       "      <td>0</td>\n",
       "      <td>0</td>\n",
       "    </tr>\n",
       "    <tr>\n",
       "      <th>1</th>\n",
       "      <td>simon quijano-evans</td>\n",
       "      <td>1</td>\n",
       "      <td>0</td>\n",
       "      <td>0</td>\n",
       "    </tr>\n",
       "    <tr>\n",
       "      <th>2</th>\n",
       "      <td>anita</td>\n",
       "      <td>1</td>\n",
       "      <td>0</td>\n",
       "      <td>0</td>\n",
       "    </tr>\n",
       "    <tr>\n",
       "      <th>3</th>\n",
       "      <td>debra l. dooley</td>\n",
       "      <td>1</td>\n",
       "      <td>0</td>\n",
       "      <td>0</td>\n",
       "    </tr>\n",
       "    <tr>\n",
       "      <th>4</th>\n",
       "      <td>bidenbeattrump2020</td>\n",
       "      <td>1</td>\n",
       "      <td>0</td>\n",
       "      <td>0</td>\n",
       "    </tr>\n",
       "    <tr>\n",
       "      <th>5</th>\n",
       "      <td>steve w</td>\n",
       "      <td>1</td>\n",
       "      <td>0</td>\n",
       "      <td>0</td>\n",
       "    </tr>\n",
       "    <tr>\n",
       "      <th>6</th>\n",
       "      <td>kim</td>\n",
       "      <td>1</td>\n",
       "      <td>0</td>\n",
       "      <td>0</td>\n",
       "    </tr>\n",
       "    <tr>\n",
       "      <th>7</th>\n",
       "      <td>poulton labour</td>\n",
       "      <td>1</td>\n",
       "      <td>0</td>\n",
       "      <td>0</td>\n",
       "    </tr>\n",
       "    <tr>\n",
       "      <th>8</th>\n",
       "      <td>🇨🇦victorian #wearamask</td>\n",
       "      <td>1</td>\n",
       "      <td>0</td>\n",
       "      <td>0</td>\n",
       "    </tr>\n",
       "    <tr>\n",
       "      <th>9</th>\n",
       "      <td>steel slacks</td>\n",
       "      <td>0</td>\n",
       "      <td>0</td>\n",
       "      <td>1</td>\n",
       "    </tr>\n",
       "    <tr>\n",
       "      <th>10</th>\n",
       "      <td>chi</td>\n",
       "      <td>1</td>\n",
       "      <td>0</td>\n",
       "      <td>0</td>\n",
       "    </tr>\n",
       "    <tr>\n",
       "      <th>11</th>\n",
       "      <td>david (vote dogs)</td>\n",
       "      <td>1</td>\n",
       "      <td>0</td>\n",
       "      <td>0</td>\n",
       "    </tr>\n",
       "    <tr>\n",
       "      <th>12</th>\n",
       "      <td>steve</td>\n",
       "      <td>1</td>\n",
       "      <td>0</td>\n",
       "      <td>0</td>\n",
       "    </tr>\n",
       "    <tr>\n",
       "      <th>13</th>\n",
       "      <td>melissa, dragon slayer🌳🌎 👷‍♀️🐲🗡</td>\n",
       "      <td>1</td>\n",
       "      <td>0</td>\n",
       "      <td>0</td>\n",
       "    </tr>\n",
       "    <tr>\n",
       "      <th>14</th>\n",
       "      <td>stasia</td>\n",
       "      <td>1</td>\n",
       "      <td>0</td>\n",
       "      <td>0</td>\n",
       "    </tr>\n",
       "    <tr>\n",
       "      <th>15</th>\n",
       "      <td>waldo</td>\n",
       "      <td>1</td>\n",
       "      <td>0</td>\n",
       "      <td>0</td>\n",
       "    </tr>\n",
       "    <tr>\n",
       "      <th>16</th>\n",
       "      <td>worldwide citizens</td>\n",
       "      <td>1</td>\n",
       "      <td>0</td>\n",
       "      <td>0</td>\n",
       "    </tr>\n",
       "    <tr>\n",
       "      <th>17</th>\n",
       "      <td>michael s roth</td>\n",
       "      <td>0</td>\n",
       "      <td>1</td>\n",
       "      <td>1</td>\n",
       "    </tr>\n",
       "    <tr>\n",
       "      <th>18</th>\n",
       "      <td>sneha suryavanshi</td>\n",
       "      <td>1</td>\n",
       "      <td>0</td>\n",
       "      <td>0</td>\n",
       "    </tr>\n",
       "    <tr>\n",
       "      <th>19</th>\n",
       "      <td>iain simpson</td>\n",
       "      <td>1</td>\n",
       "      <td>0</td>\n",
       "      <td>0</td>\n",
       "    </tr>\n",
       "  </tbody>\n",
       "</table>\n",
       "</div>"
      ],
      "text/plain": [
       "                                nom  politique  sport  culture\n",
       "0                      ishwar singh          1      0        0\n",
       "1               simon quijano-evans          1      0        0\n",
       "2                             anita          1      0        0\n",
       "3                   debra l. dooley          1      0        0\n",
       "4                bidenbeattrump2020          1      0        0\n",
       "5                           steve w          1      0        0\n",
       "6                               kim          1      0        0\n",
       "7                    poulton labour          1      0        0\n",
       "8            🇨🇦victorian #wearamask          1      0        0\n",
       "9                      steel slacks          0      0        1\n",
       "10                              chi          1      0        0\n",
       "11                david (vote dogs)          1      0        0\n",
       "12                            steve          1      0        0\n",
       "13  melissa, dragon slayer🌳🌎 👷‍♀️🐲🗡          1      0        0\n",
       "14                           stasia          1      0        0\n",
       "15                            waldo          1      0        0\n",
       "16               worldwide citizens          1      0        0\n",
       "17                   michael s roth          0      1        1\n",
       "18                sneha suryavanshi          1      0        0\n",
       "19                     iain simpson          1      0        0"
      ]
     },
     "execution_count": 66,
     "metadata": {},
     "output_type": "execute_result"
    }
   ],
   "source": [
    "data = {'nom': Nom_List, 'politique':pol, 'sport':sp, 'culture':cul}\n",
    "cluster_df = pd.DataFrame(data)\n",
    "cluster_df.head(20)"
   ]
  },
  {
   "cell_type": "code",
   "execution_count": 75,
   "metadata": {
    "id": "UxZ-A_e0PEJo"
   },
   "outputs": [],
   "source": [
    "a =  cluster_df[['politique', 'sport', 'culture']].sum(axis = 1) > 1\n",
    "cluster_df.loc[(a), ['politique', 'sport', 'culture']] = 1/a\n",
    "#Accédez à un groupe de lignes "
   ]
  },
  {
   "cell_type": "code",
   "execution_count": 76,
   "metadata": {
    "colab": {
     "base_uri": "https://localhost:8080/"
    },
    "id": "lh58CuVHP3QL",
    "outputId": "453d8831-3a91-407a-e4ff-63a59406d347"
   },
   "outputs": [
    {
     "data": {
      "text/plain": [
       "(10000, 4)"
      ]
     },
     "execution_count": 76,
     "metadata": {},
     "output_type": "execute_result"
    }
   ],
   "source": [
    "cluster_df.shape"
   ]
  },
  {
   "cell_type": "markdown",
   "metadata": {
    "id": "e08w0wPsRSCR"
   },
   "source": [
    "#### calculer le nombre total des 1 pour chaque categorie "
   ]
  },
  {
   "cell_type": "code",
   "execution_count": null,
   "metadata": {
    "id": "4qGbHbjkLbwH"
   },
   "outputs": [],
   "source": [
    "# Cluster politique-sport"
   ]
  },
  {
   "cell_type": "code",
   "execution_count": 84,
   "metadata": {
    "colab": {
     "base_uri": "https://localhost:8080/",
     "height": 252
    },
    "id": "6UkMKd08RWiW",
    "outputId": "fafb7808-0033-4c79-8630-3da0952a5ba1"
   },
   "outputs": [
    {
     "data": {
      "text/html": [
       "<div>\n",
       "<style scoped>\n",
       "    .dataframe tbody tr th:only-of-type {\n",
       "        vertical-align: middle;\n",
       "    }\n",
       "\n",
       "    .dataframe tbody tr th {\n",
       "        vertical-align: top;\n",
       "    }\n",
       "\n",
       "    .dataframe thead th {\n",
       "        text-align: right;\n",
       "    }\n",
       "</style>\n",
       "<table border=\"1\" class=\"dataframe\">\n",
       "  <thead>\n",
       "    <tr style=\"text-align: right;\">\n",
       "      <th></th>\n",
       "      <th>politique</th>\n",
       "      <th>sport</th>\n",
       "      <th>culture</th>\n",
       "      <th>total</th>\n",
       "    </tr>\n",
       "    <tr>\n",
       "      <th>nom</th>\n",
       "      <th></th>\n",
       "      <th></th>\n",
       "      <th></th>\n",
       "      <th></th>\n",
       "    </tr>\n",
       "  </thead>\n",
       "  <tbody>\n",
       "    <tr>\n",
       "      <th># 3.5% 🌹socialist movement 🌹</th>\n",
       "      <td>2</td>\n",
       "      <td>0</td>\n",
       "      <td>0</td>\n",
       "      <td>2</td>\n",
       "    </tr>\n",
       "    <tr>\n",
       "      <th># ri 🐼 is at school - follow limit</th>\n",
       "      <td>1</td>\n",
       "      <td>0</td>\n",
       "      <td>0</td>\n",
       "      <td>1</td>\n",
       "    </tr>\n",
       "    <tr>\n",
       "      <th>#1 enemy of the state</th>\n",
       "      <td>1</td>\n",
       "      <td>0</td>\n",
       "      <td>0</td>\n",
       "      <td>1</td>\n",
       "    </tr>\n",
       "    <tr>\n",
       "      <th>#1 keynote speaker on #sales #culture todd cohen</th>\n",
       "      <td>1</td>\n",
       "      <td>0</td>\n",
       "      <td>0</td>\n",
       "      <td>1</td>\n",
       "    </tr>\n",
       "    <tr>\n",
       "      <th>#beautifuluganda</th>\n",
       "      <td>1</td>\n",
       "      <td>0</td>\n",
       "      <td>0</td>\n",
       "      <td>1</td>\n",
       "    </tr>\n",
       "    <tr>\n",
       "      <th>...</th>\n",
       "      <td>...</td>\n",
       "      <td>...</td>\n",
       "      <td>...</td>\n",
       "      <td>...</td>\n",
       "    </tr>\n",
       "    <tr>\n",
       "      <th>🧚🏾‍♀️✨</th>\n",
       "      <td>0</td>\n",
       "      <td>0</td>\n",
       "      <td>1</td>\n",
       "      <td>1</td>\n",
       "    </tr>\n",
       "    <tr>\n",
       "      <th>🧸💜♡ 𝓣𝓪𝓽𝓲 ⁴ ♡ 💜🧸</th>\n",
       "      <td>1</td>\n",
       "      <td>0</td>\n",
       "      <td>0</td>\n",
       "      <td>1</td>\n",
       "    </tr>\n",
       "    <tr>\n",
       "      <th>🪖dez⁶</th>\n",
       "      <td>1</td>\n",
       "      <td>0</td>\n",
       "      <td>0</td>\n",
       "      <td>1</td>\n",
       "    </tr>\n",
       "    <tr>\n",
       "      <th>🪴</th>\n",
       "      <td>3</td>\n",
       "      <td>0</td>\n",
       "      <td>0</td>\n",
       "      <td>3</td>\n",
       "    </tr>\n",
       "    <tr>\n",
       "      <th>Total</th>\n",
       "      <td>9364</td>\n",
       "      <td>483</td>\n",
       "      <td>1118</td>\n",
       "      <td>10965</td>\n",
       "    </tr>\n",
       "  </tbody>\n",
       "</table>\n",
       "<p>8509 rows × 4 columns</p>\n",
       "</div>"
      ],
      "text/plain": [
       "                                                  politique  sport  culture  \\\n",
       "nom                                                                           \n",
       "# 3.5% 🌹socialist movement 🌹                              2      0        0   \n",
       "# ri 🐼 is at school - follow limit                        1      0        0   \n",
       "#1 enemy of the state                                     1      0        0   \n",
       "#1 keynote speaker on #sales #culture todd cohen          1      0        0   \n",
       "#beautifuluganda                                          1      0        0   \n",
       "...                                                     ...    ...      ...   \n",
       "🧚🏾‍♀️✨                                                    0      0        1   \n",
       "🧸💜♡ 𝓣𝓪𝓽𝓲 ⁴ ♡ 💜🧸                                           1      0        0   \n",
       "🪖dez⁶                                                     1      0        0   \n",
       "🪴                                                         3      0        0   \n",
       "Total                                                  9364    483     1118   \n",
       "\n",
       "                                                  total  \n",
       "nom                                                      \n",
       "# 3.5% 🌹socialist movement 🌹                          2  \n",
       "# ri 🐼 is at school - follow limit                    1  \n",
       "#1 enemy of the state                                 1  \n",
       "#1 keynote speaker on #sales #culture todd cohen      1  \n",
       "#beautifuluganda                                      1  \n",
       "...                                                 ...  \n",
       "🧚🏾‍♀️✨                                                1  \n",
       "🧸💜♡ 𝓣𝓪𝓽𝓲 ⁴ ♡ 💜🧸                                       1  \n",
       "🪖dez⁶                                                 1  \n",
       "🪴                                                     3  \n",
       "Total                                             10965  \n",
       "\n",
       "[8509 rows x 4 columns]"
      ]
     },
     "execution_count": 84,
     "metadata": {},
     "output_type": "execute_result"
    }
   ],
   "source": [
    "pivot_clusters = cluster_df.groupby(['nom']).sum()\n",
    "pivot_clusters['politique'] = pivot_clusters['politique'].astype(int)\n",
    "pivot_clusters['sport'] = pivot_clusters['sport'].astype(int)\n",
    "pivot_clusters['culture'] = pivot_clusters['culture'].astype(int)\n",
    "pivot_clusters['total'] = pivot_clusters['politique'] + pivot_clusters['sport'] + pivot_clusters['culture']\n",
    "pivot_clusters.loc[\"Total\"] = pivot_clusters.sum()  \n",
    "# somme des lignes contient des \"1\"\n",
    "pivot_clusters.head(10000)"
   ]
  },
  {
   "cell_type": "markdown",
   "metadata": {
    "id": "2gQqVIsTKU3_"
   },
   "source": [
    "#### appliquer l'algorithme K-means pour faire les clusters "
   ]
  },
  {
   "cell_type": "markdown",
   "metadata": {},
   "source": [
    "### *politique , sport "
   ]
  },
  {
   "cell_type": "markdown",
   "metadata": {},
   "source": [
    "#### 5 clusters"
   ]
  },
  {
   "cell_type": "code",
   "execution_count": 126,
   "metadata": {
    "id": "_q-tWX6tEAsu"
   },
   "outputs": [
    {
     "data": {
      "image/png": "[encoded data removed]",
      "text/plain": [
       "<Figure size 432x288 with 1 Axes>"
      ]
     },
     "metadata": {},
     "output_type": "display_data"
    }
   ],
   "source": [
    "kmeans = KMeans(n_clusters=5, init='k-means++', n_init=5, max_iter=100, random_state=0)\n",
    "X = pivot_clusters[['politique' , 'sport']].values\n",
    "Y_kmeans = kmeans.fit_predict(X)\n",
    "plt.scatter(X[Y_kmeans==4, 0], X[Y_kmeans==4, 1], s=100, c='blue', label= 'Cluster ')\n",
    "plt.scatter(kmeans.cluster_centers_[:, 0], kmeans.cluster_centers_[:, 1], s=100, c='black', label='Centroids' )\n",
    "plt.title('Cluster politique - sport')\n",
    "plt.xlabel('politique tweets')\n",
    "plt.ylabel('sport tweets')\n",
    "plt.legend()\n",
    "plt.show()"
   ]
  },
  {
   "cell_type": "markdown",
   "metadata": {
    "colab": {
     "base_uri": "https://localhost:8080/",
     "height": 573
    },
    "id": "uJA6jEdbKTPQ",
    "outputId": "d3e9cf4b-c345-44f5-c424-f20b1d0304f9"
   },
   "source": [
    "### *politique , culture "
   ]
  },
  {
   "cell_type": "markdown",
   "metadata": {},
   "source": [
    "#### 4 clusters"
   ]
  },
  {
   "cell_type": "code",
   "execution_count": 124,
   "metadata": {
    "colab": {
     "base_uri": "https://localhost:8080/",
     "height": 295
    },
    "id": "t6KbpnMhILX6",
    "outputId": "0bfc8e17-c2a6-4bdf-bf3b-3d57192462f3"
   },
   "outputs": [
    {
     "data": {
      "image/png": "[encoded data removed]",
      "text/plain": [
       "<Figure size 432x288 with 1 Axes>"
      ]
     },
     "metadata": {},
     "output_type": "display_data"
    }
   ],
   "source": [
    "kmeans = KMeans(n_clusters=4, init='k-means++', n_init=5, max_iter=100, random_state=0)\n",
    "X = pivot_clusters[['politique' , 'sport']].values\n",
    "Y_kmeans = kmeans.fit_predict(X)\n",
    "plt.scatter(X[Y_kmeans==3, 0], X[Y_kmeans==3, 1], s=100, c='magenta', label= 'Cluster')\n",
    "plt.scatter(kmeans.cluster_centers_[:, 0], kmeans.cluster_centers_[:, 1], s=100, c='black', label='Centroids' )\n",
    "plt.title('Cluster politique - culture')\n",
    "plt.xlabel('politique tweets')\n",
    "plt.ylabel('culture tweets')\n",
    "plt.legend()\n",
    "plt.show()"
   ]
  },
  {
   "cell_type": "markdown",
   "metadata": {
    "id": "hAuCQhnVJBVo"
   },
   "source": [
    "### Cluster sport-culture"
   ]
  },
  {
   "cell_type": "markdown",
   "metadata": {},
   "source": [
    "#### 6 cluster"
   ]
  },
  {
   "cell_type": "code",
   "execution_count": 127,
   "metadata": {},
   "outputs": [
    {
     "data": {
      "image/png": "[encoded data removed]",
      "text/plain": [
       "<Figure size 432x288 with 1 Axes>"
      ]
     },
     "metadata": {},
     "output_type": "display_data"
    }
   ],
   "source": [
    "kmeans = KMeans(n_clusters=6, init='k-means++', n_init=5, max_iter=100, random_state=0)\n",
    "X = pivot_clusters[['culture' , 'sport']].values\n",
    "Y_kmeans = kmeans.fit_predict(X)\n",
    "plt.scatter(X[Y_kmeans==5, 0], X[Y_kmeans==5, 1], s=100, c='magenta', label= 'Cluster')\n",
    "plt.scatter(kmeans.cluster_centers_[:, 0], kmeans.cluster_centers_[:, 1], s=100, c='black', label='Centroids' )\n",
    "plt.title('Cluster sport - culture')\n",
    "plt.xlabel('sport tweets')\n",
    "plt.ylabel('culture tweets')\n",
    "plt.legend()\n",
    "plt.show()"
   ]
  },
  {
   "cell_type": "code",
   "execution_count": null,
   "metadata": {},
   "outputs": [],
   "source": []
  }
 ],
 "metadata": {
  "colab": {
   "collapsed_sections": [],
   "name": "Untitled5.ipynb",
   "provenance": []
  },
  "kernelspec": {
   "display_name": "Python 3",
   "language": "python",
   "name": "python3"
  },
  "language_info": {
   "codemirror_mode": {
    "name": "ipython",
    "version": 3
   },
   "file_extension": ".py",
   "mimetype": "text/x-python",
   "name": "python",
   "nbconvert_exporter": "python",
   "pygments_lexer": "ipython3",
   "version": "3.6.5"
  }
 },
 "nbformat": 4,
 "nbformat_minor": 1
}
